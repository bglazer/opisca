{
 "cells": [
  {
   "cell_type": "code",
   "execution_count": 1,
   "id": "d4e8de34",
   "metadata": {},
   "outputs": [],
   "source": [
    "import torch_geometric as pyg\n",
    "import torch\n",
    "import numpy as np\n",
    "import scanpy\n",
    "from collections import defaultdict\n",
    "import pickle\n",
    "from torch_geometric.nn.models import Node2Vec\n",
    "from torch_geometric.data import HeteroData, Data\n",
    "from umap import UMAP"
   ]
  },
  {
   "cell_type": "code",
   "execution_count": 2,
   "id": "e979dc16",
   "metadata": {},
   "outputs": [],
   "source": [
    "from util import to_homogeneous"
   ]
  },
  {
   "cell_type": "code",
   "execution_count": 3,
   "id": "be30242a",
   "metadata": {},
   "outputs": [],
   "source": [
    "import matplotlib.pyplot as plt"
   ]
  },
  {
   "cell_type": "code",
   "execution_count": 4,
   "id": "e6ac5298",
   "metadata": {},
   "outputs": [],
   "source": [
    "device='cuda:0'\n",
    "\n",
    "graph = torch.load('input/pyg_graph.torch').to(device)\n",
    "node_idxs = pickle.load(open('input/nodes_by_type.pickle','rb'))\n",
    "# gene_name_proteins = pickle.load(open('input/gene_name_proteins.pickle','rb'))"
   ]
  },
  {
   "cell_type": "code",
   "execution_count": 5,
   "id": "d75fc877",
   "metadata": {},
   "outputs": [
    {
     "data": {
      "text/plain": [
       "[('tad', 'overlaps', 'atac_region'),\n",
       " ('tad', 'overlaps', 'gene'),\n",
       " ('gene', 'associated', 'protein'),\n",
       " ('atac_region', 'overlaps', 'gene'),\n",
       " ('protein', 'coexpressed', 'protein'),\n",
       " ('protein', 'tf_interacts', 'gene'),\n",
       " ('protein', 'is_named', 'protein_name')]"
      ]
     },
     "execution_count": 5,
     "metadata": {},
     "output_type": "execute_result"
    }
   ],
   "source": [
    "graph.metadata()[1]"
   ]
  },
  {
   "cell_type": "code",
   "execution_count": 6,
   "id": "17d7496e",
   "metadata": {},
   "outputs": [],
   "source": [
    "metapaths = [\n",
    "    ('gene', 'associated', 'protein'),\n",
    "    ('protein', 'coexpressed', 'protein'),\n",
    "    ('protein', 'tf_interacts', 'gene'),\n",
    "]"
   ]
  },
  {
   "cell_type": "code",
   "execution_count": 7,
   "id": "23b8dfcc",
   "metadata": {},
   "outputs": [],
   "source": [
    "node_types = ['gene','protein']"
   ]
  },
  {
   "cell_type": "code",
   "execution_count": 8,
   "id": "25986234",
   "metadata": {},
   "outputs": [],
   "source": [
    "subgraph = HeteroData()\n",
    "\n",
    "for path in metapaths:\n",
    "    subgraph[path].edge_index = graph[path].edge_index\n",
    "\n",
    "subgraph['protein'].num_nodes = len(node_idxs['protein'])\n",
    "subgraph['gene'].num_nodes = len(node_idxs['gene'])"
   ]
  },
  {
   "cell_type": "code",
   "execution_count": 9,
   "id": "bfeaa635",
   "metadata": {},
   "outputs": [],
   "source": [
    "subgraph = to_homogeneous(subgraph, add_node_type=True, add_edge_type=True)"
   ]
  },
  {
   "cell_type": "code",
   "execution_count": 10,
   "id": "1049a370",
   "metadata": {},
   "outputs": [],
   "source": [
    "model = Node2Vec(subgraph.edge_index, embedding_dim=128, walk_length=50,\n",
    "                 context_size=25, walks_per_node=10,\n",
    "                 num_negative_samples=1, p=1, q=1, sparse=True).to(device)\n",
    "\n",
    "loader = model.loader(batch_size=128, shuffle=True, num_workers=4)\n",
    "optimizer = torch.optim.SparseAdam(list(model.parameters()), lr=0.01)"
   ]
  },
  {
   "cell_type": "code",
   "execution_count": 11,
   "id": "d6657821",
   "metadata": {},
   "outputs": [],
   "source": [
    "def train():\n",
    "    model.train()\n",
    "    total_loss = 0\n",
    "    for i,(pos_rw, neg_rw) in enumerate(loader):\n",
    "        optimizer.zero_grad()\n",
    "        loss = model.loss(pos_rw.to(device), neg_rw.to(device))\n",
    "        loss.backward()\n",
    "        optimizer.step()\n",
    "        total_loss += loss.item()\n",
    "    return total_loss / len(loader)"
   ]
  },
  {
   "cell_type": "code",
   "execution_count": 12,
   "id": "94f40bee",
   "metadata": {
    "scrolled": false
   },
   "outputs": [
    {
     "name": "stdout",
     "output_type": "stream",
     "text": [
      "Epoch: 01, Loss: 2.9331\n",
      "Epoch: 02, Loss: 0.9534\n",
      "Epoch: 03, Loss: 0.8810\n",
      "Epoch: 04, Loss: 0.8663\n",
      "Epoch: 05, Loss: 0.8613\n",
      "Epoch: 06, Loss: 0.8587\n",
      "Epoch: 07, Loss: 0.8572\n",
      "Epoch: 08, Loss: 0.8561\n",
      "Epoch: 09, Loss: 0.8559\n",
      "Epoch: 10, Loss: 0.8555\n",
      "Epoch: 11, Loss: 0.8555\n",
      "Epoch: 12, Loss: 0.8556\n",
      "Epoch: 13, Loss: 0.8556\n",
      "Epoch: 14, Loss: 0.8559\n",
      "Epoch: 15, Loss: 0.8559\n",
      "Epoch: 16, Loss: 0.8560\n",
      "Epoch: 17, Loss: 0.8561\n",
      "Epoch: 18, Loss: 0.8560\n",
      "Epoch: 19, Loss: 0.8561\n",
      "Epoch: 20, Loss: 0.8560\n",
      "Epoch: 21, Loss: 0.8559\n",
      "Epoch: 22, Loss: 0.8558\n",
      "Epoch: 23, Loss: 0.8559\n",
      "Epoch: 24, Loss: 0.8559\n",
      "Epoch: 25, Loss: 0.8559\n",
      "Epoch: 26, Loss: 0.8559\n",
      "Epoch: 27, Loss: 0.8559\n",
      "Epoch: 28, Loss: 0.8559\n",
      "Epoch: 29, Loss: 0.8559\n"
     ]
    }
   ],
   "source": [
    "for epoch in range(1, 30):\n",
    "    loss = train()\n",
    "    print(f'Epoch: {epoch:02d}, Loss: {loss:.4f}')"
   ]
  },
  {
   "cell_type": "code",
   "execution_count": 13,
   "id": "6e9581ae",
   "metadata": {},
   "outputs": [
    {
     "name": "stdout",
     "output_type": "stream",
     "text": [
      "running model\n",
      "sampling\n",
      "umap\n"
     ]
    },
    {
     "name": "stderr",
     "output_type": "stream",
     "text": [
      "/home/bglaze/miniconda3/envs/opisca/lib/python3.8/site-packages/torch_geometric/data/storage.py:244: UserWarning: Unable to accurately infer 'num_nodes' from the attribute set '{'edge_type', 'edge_index', 'node_type'}'. Please explicitly set 'num_nodes' as an attribute of 'data' to suppress this warning\n",
      "  warnings.warn(\n"
     ]
    },
    {
     "name": "stdout",
     "output_type": "stream",
     "text": [
      "plotting\n"
     ]
    },
    {
     "data": {
      "image/png": "[encoded data removed]",
      "text/plain": [
       "<Figure size 576x576 with 1 Axes>"
      ]
     },
     "metadata": {
      "needs_background": "light"
     },
     "output_type": "display_data"
    }
   ],
   "source": [
    "@torch.no_grad()\n",
    "def plot_points(sample_size=10000):\n",
    "    model.eval()\n",
    "    print('running model')\n",
    "    z = model(torch.arange(subgraph.num_nodes, device=device))\n",
    "    print('sampling')\n",
    "    z = z[torch.randint(low=0, high=len(z), size=(sample_size,))]\n",
    "    print('umap')\n",
    "    z = UMAP(n_jobs=4).fit_transform(z.cpu().numpy())\n",
    "    print('plotting')\n",
    "    plt.figure(figsize=(8, 8))\n",
    "    plt.scatter(z[:,0], z[:,1], s=20)\n",
    "    plt.axis('off')\n",
    "    plt.show()\n",
    "\n",
    "plot_points(10000)"
   ]
  },
  {
   "cell_type": "code",
   "execution_count": 48,
   "id": "1d3ae975",
   "metadata": {},
   "outputs": [],
   "source": [
    "embedding = model(torch.arange(subgraph.num_nodes, device=device))"
   ]
  },
  {
   "cell_type": "code",
   "execution_count": 10,
   "id": "0575b15d",
   "metadata": {},
   "outputs": [],
   "source": [
    "torch.save(subgraph, 'input/node2vec_subgraph.torch')"
   ]
  },
  {
   "cell_type": "code",
   "execution_count": 77,
   "id": "437e21aa",
   "metadata": {},
   "outputs": [],
   "source": [
    "torch.save(embedding, 'input/node2vec_embeddings.torch')"
   ]
  }
 ],
 "metadata": {
  "kernelspec": {
   "display_name": "Python [conda env:opisca]",
   "language": "python",
   "name": "conda-env-opisca-py"
  },
  "language_info": {
   "codemirror_mode": {
    "name": "ipython",
    "version": 3
   },
   "file_extension": ".py",
   "mimetype": "text/x-python",
   "name": "python",
   "nbconvert_exporter": "python",
   "pygments_lexer": "ipython3",
   "version": "3.8.12"
  }
 },
 "nbformat": 4,
 "nbformat_minor": 5
}
