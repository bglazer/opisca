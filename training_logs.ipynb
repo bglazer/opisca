{
 "cells": [
  {
   "cell_type": "code",
   "execution_count": 1,
   "id": "35d465f7",
   "metadata": {},
   "outputs": [],
   "source": [
    "from matplotlib import pyplot as plt "
   ]
  },
  {
   "cell_type": "code",
   "execution_count": 2,
   "id": "bcf2232a",
   "metadata": {},
   "outputs": [],
   "source": [
    "import json"
   ]
  },
  {
   "cell_type": "code",
   "execution_count": 3,
   "id": "a2bcdf85",
   "metadata": {},
   "outputs": [],
   "source": [
    "import re"
   ]
  },
  {
   "cell_type": "code",
   "execution_count": 4,
   "id": "93cbe671",
   "metadata": {},
   "outputs": [],
   "source": [
    "import numpy as np"
   ]
  },
  {
   "cell_type": "code",
   "execution_count": 5,
   "id": "3cc9a7e6",
   "metadata": {},
   "outputs": [],
   "source": [
    "def bucket(x, size):\n",
    "    l = len(x)\n",
    "    buckets = []\n",
    "    i = 0\n",
    "    while i < l:\n",
    "        buckets.append(sum(x[i:i+size])/len(x[i:i+size]))\n",
    "        i+=size\n",
    "    return buckets"
   ]
  },
  {
   "cell_type": "code",
   "execution_count": 6,
   "id": "a762d339",
   "metadata": {},
   "outputs": [],
   "source": [
    "def moving_average(x, w):\n",
    "    return np.convolve(x, np.ones(w), 'valid') / w"
   ]
  },
  {
   "cell_type": "code",
   "execution_count": 41,
   "id": "08ea8083",
   "metadata": {},
   "outputs": [],
   "source": [
    "class LogReader():\n",
    "    def __init__(self, filename, keys):\n",
    "        self.file = open(f'{filename}')\n",
    "        self.rgx = re.compile(f'^({\"|\".join(keys)}).*')\n",
    "        self.matches = {}\n",
    "        for key in keys:\n",
    "            self.matches[key]=[]\n",
    "    \n",
    "    def grab(self):\n",
    "        line = next(self.file, None)\n",
    "        while line:\n",
    "            match = self.rgx.match(line)\n",
    "            if match:\n",
    "                self.matches[match.group(1)].append(float(line.strip().split(' ')[-1]))\n",
    "            line = next(self.file, None)\n",
    "        return self.matches"
   ]
  },
  {
   "cell_type": "code",
   "execution_count": 127,
   "id": "42e0cac5",
   "metadata": {},
   "outputs": [],
   "source": [
    "keys = [\n",
    "    'Batch',\n",
    "    'Epoch',\n",
    "    'train zero one loss',\n",
    "    'train value loss',\n",
    "    'train prediction loss',\n",
    "    'validation zero one loss',\n",
    "    'validation value loss',\n",
    "    'validation prediction loss',\n",
    "]"
   ]
  },
  {
   "cell_type": "markdown",
   "id": "71680ba6",
   "metadata": {},
   "source": [
    "#### Bucket Size"
   ]
  },
  {
   "cell_type": "code",
   "execution_count": 128,
   "id": "301717c2",
   "metadata": {},
   "outputs": [],
   "source": [
    "bucket_size = 10"
   ]
  },
  {
   "cell_type": "code",
   "execution_count": 129,
   "id": "3ecab3f6",
   "metadata": {},
   "outputs": [],
   "source": [
    "readers = {}\n",
    "matches = {}"
   ]
  },
  {
   "cell_type": "markdown",
   "id": "873e7870",
   "metadata": {},
   "source": [
    "#### Timestamp of run"
   ]
  },
  {
   "cell_type": "code",
   "execution_count": 170,
   "id": "010d899f",
   "metadata": {},
   "outputs": [],
   "source": [
    "timestamps = [\n",
    "'20211027-0915',\n",
    "'20211027-0926',\n",
    "'20211027-0952',\n",
    "]\n",
    "files = [f'logs/train_earl_{tmstp}.log' for tmstp in timestamps]"
   ]
  },
  {
   "cell_type": "code",
   "execution_count": 171,
   "id": "9fa7ee4e",
   "metadata": {},
   "outputs": [],
   "source": [
    "for file in files:\n",
    "    if file not in readers:\n",
    "        readers[file] = LogReader(file, keys)\n",
    "        matches = readers[file].grab()"
   ]
  },
  {
   "cell_type": "markdown",
   "id": "dfda6c64",
   "metadata": {},
   "source": [
    "## Get matching log lines"
   ]
  },
  {
   "cell_type": "code",
   "execution_count": 193,
   "id": "9b45a1db",
   "metadata": {},
   "outputs": [],
   "source": [
    "idx = 2\n",
    "file = files[idx]\n",
    "matches = readers[file].grab()"
   ]
  },
  {
   "cell_type": "markdown",
   "id": "f8f0d3d4",
   "metadata": {},
   "source": [
    "## Parameters of this run"
   ]
  },
  {
   "cell_type": "code",
   "execution_count": 194,
   "id": "6f8863f2",
   "metadata": {},
   "outputs": [],
   "source": [
    "import json\n",
    "from pprint import pprint"
   ]
  },
  {
   "cell_type": "code",
   "execution_count": 195,
   "id": "dc763275",
   "metadata": {},
   "outputs": [
    {
     "name": "stdout",
     "output_type": "stream",
     "text": [
      "{'checkpoint': 50,\n",
      " 'device': 'cuda:2',\n",
      " 'layers': [['SAGEConv', {'out_channels': 128}],\n",
      "            ['SAGEConv', {'out_channels': 128}],\n",
      "            ['SAGEConv', {'out_channels': 128}],\n",
      "            ['GATConv', {'heads': 2, 'out_channels': 64}]],\n",
      " 'lr': 0.001,\n",
      " 'n_epochs': 10,\n",
      " 'out_mlp': {'bias': True,\n",
      "             'dim_in': 128,\n",
      "             'dim_inner': 256,\n",
      "             'dim_out': 1,\n",
      "             'num_layers': 3},\n",
      " 'train_batch_size': 100,\n",
      " 'validation_batch_size': 100}\n"
     ]
    }
   ],
   "source": [
    "pprint(json.load(open(f'logs/earl_params_{timestamps[idx]}.json')))"
   ]
  },
  {
   "cell_type": "markdown",
   "id": "1ab53dcc",
   "metadata": {},
   "source": [
    "## Current Epoch"
   ]
  },
  {
   "cell_type": "code",
   "execution_count": 196,
   "id": "6308a813",
   "metadata": {},
   "outputs": [
    {
     "data": {
      "text/plain": [
       "0.0"
      ]
     },
     "execution_count": 196,
     "metadata": {},
     "output_type": "execute_result"
    }
   ],
   "source": [
    "epoch = matches['Epoch'][-1]\n",
    "epoch"
   ]
  },
  {
   "cell_type": "markdown",
   "id": "7ec0b3af",
   "metadata": {},
   "source": [
    "## Current Batch"
   ]
  },
  {
   "cell_type": "code",
   "execution_count": 197,
   "id": "f5a73e43",
   "metadata": {},
   "outputs": [
    {
     "data": {
      "text/plain": [
       "5.0"
      ]
     },
     "execution_count": 197,
     "metadata": {},
     "output_type": "execute_result"
    }
   ],
   "source": [
    "batch = matches['Batch'][-1]\n",
    "batch"
   ]
  },
  {
   "cell_type": "markdown",
   "id": "89567bf2",
   "metadata": {},
   "source": [
    "## Training loss"
   ]
  },
  {
   "cell_type": "code",
   "execution_count": 198,
   "id": "94cad987",
   "metadata": {},
   "outputs": [
    {
     "name": "stdout",
     "output_type": "stream",
     "text": [
      "0.8101892168479599\n"
     ]
    },
    {
     "data": {
      "image/png": "[encoded data removed]",
      "text/plain": [
       "<Figure size 1080x720 with 1 Axes>"
      ]
     },
     "metadata": {
      "needs_background": "light"
     },
     "output_type": "display_data"
    }
   ],
   "source": [
    "training_loss = matches['train prediction loss']\n",
    "plt.figure(figsize=(15,10))\n",
    "plt.grid(axis='y')\n",
    "_=plt.plot(training_loss)\n",
    "print(training_loss[-1])"
   ]
  },
  {
   "cell_type": "code",
   "execution_count": 199,
   "id": "67889b59",
   "metadata": {},
   "outputs": [
    {
     "data": {
      "image/png": "[encoded data removed]",
      "text/plain": [
       "<Figure size 1080x720 with 1 Axes>"
      ]
     },
     "metadata": {
      "needs_background": "light"
     },
     "output_type": "display_data"
    }
   ],
   "source": [
    "training_loss = matches['train prediction loss']\n",
    "plt.figure(figsize=(15,10))\n",
    "plt.grid(axis='y')\n",
    "_=plt.plot(moving_average(training_loss,10))"
   ]
  },
  {
   "cell_type": "code",
   "execution_count": 200,
   "id": "034bb9e9",
   "metadata": {},
   "outputs": [
    {
     "data": {
      "image/png": "[encoded data removed]",
      "text/plain": [
       "<Figure size 1080x720 with 1 Axes>"
      ]
     },
     "metadata": {
      "needs_background": "light"
     },
     "output_type": "display_data"
    }
   ],
   "source": [
    "validation_loss = matches['validation prediction loss']\n",
    "plt.figure(figsize=(15,10))\n",
    "plt.grid(axis='y')\n",
    "plt.plot(validation_loss)\n",
    "_=plt.plot(moving_average(validation_loss,5))"
   ]
  },
  {
   "cell_type": "markdown",
   "id": "fb6cd641",
   "metadata": {},
   "source": [
    "## Sample predictions"
   ]
  },
  {
   "cell_type": "code",
   "execution_count": 201,
   "id": "dbcde4c3",
   "metadata": {},
   "outputs": [],
   "source": [
    "prediction_file = open(f'logs/train_earl_prediction_sample_{timestamps[idx]}.log')"
   ]
  },
  {
   "cell_type": "code",
   "execution_count": 202,
   "id": "84621959",
   "metadata": {
    "scrolled": false
   },
   "outputs": [
    {
     "name": "stdout",
     "output_type": "stream",
     "text": [
      "batch 0 0      pred,y:   0.621 1.199\n",
      "batch 0 1      pred,y:   0.971 0.690\n",
      "batch 0 2      pred,y:   0.561 0.286\n",
      "batch 0 3      pred,y:   0.409 0.286\n",
      "batch 0 4      pred,y:  -2.787 0.508\n",
      "batch 0 5      pred,y:   0.614 0.690\n",
      "batch 0 6      pred,y:   0.978 2.228\n",
      "batch 0 7      pred,y:   1.045 0.000\n",
      "batch 0 8      pred,y:   0.595 1.094\n",
      "batch 0 9      pred,y:   0.036 0.286\n",
      "batch 0 10     pred,y:   0.534 0.000\n",
      "batch 0 11     pred,y:   1.152 2.329\n",
      "batch 0 12     pred,y:   0.476 1.199\n",
      "batch 0 13     pred,y:   1.242 0.977\n",
      "batch 0 14     pred,y:   0.738 0.000\n",
      "batch 0 15     pred,y:   0.626 0.000\n",
      "batch 0 16     pred,y:   0.546 1.891\n",
      "batch 0 17     pred,y:   0.371 0.000\n",
      "batch 0 18     pred,y:   1.134 0.000\n",
      "batch 0 19     pred,y:   0.000 0.508\n",
      "batch 0 20     pred,y:   0.000 0.690\n",
      "batch 0 21     pred,y:   0.000 0.286\n",
      "batch 0 22     pred,y:   0.927 0.690\n",
      "batch 0 23     pred,y:   0.682 0.000\n",
      "batch 0 24     pred,y:   0.414 1.381\n",
      "batch 0 25     pred,y:   0.568 1.840\n",
      "batch 0 26     pred,y:   0.000 0.508\n",
      "batch 0 27     pred,y:   0.582 0.286\n",
      "batch 0 28     pred,y:   1.022 0.508\n",
      "batch 0 29     pred,y:   0.969 0.000\n",
      "batch 0 30     pred,y:   0.714 0.000\n",
      "batch 0 31     pred,y:   1.128 0.843\n",
      "batch 0 32     pred,y:   0.294 0.690\n",
      "batch 0 33     pred,y:   0.455 0.508\n",
      "batch 0 34     pred,y:   1.081 1.094\n",
      "batch 0 35     pred,y:   0.582 0.843\n",
      "batch 0 36     pred,y:   0.856 0.000\n",
      "batch 0 37     pred,y:   1.167 1.094\n",
      "batch 0 38     pred,y:   0.503 0.286\n",
      "batch 0 39     pred,y:   0.325 1.294\n",
      "batch 0 40     pred,y:   0.569 0.000\n",
      "batch 0 41     pred,y:  -0.321 0.977\n",
      "batch 0 42     pred,y:   1.070 0.000\n",
      "batch 0 43     pred,y:   0.000 0.690\n",
      "batch 0 44     pred,y:   0.478 0.977\n",
      "batch 0 45     pred,y:   0.000 0.000\n",
      "batch 0 46     pred,y:  -0.000 0.508\n",
      "batch 0 47     pred,y:   0.579 0.690\n",
      "batch 0 48     pred,y:   0.547 0.000\n",
      "batch 0 49     pred,y:   0.369 0.508\n",
      "batch 0 50     pred,y:   0.952 0.690\n",
      "batch 0 51     pred,y:   0.578 1.604\n",
      "batch 0 52     pred,y:   0.376 0.977\n",
      "batch 0 53     pred,y:   1.178 0.843\n",
      "batch 0 54     pred,y:   0.604 2.114\n",
      "batch 0 55     pred,y:   1.137 0.977\n",
      "batch 0 56     pred,y:   0.910 1.840\n",
      "batch 0 57     pred,y:   0.859 0.690\n",
      "batch 0 58     pred,y:   0.125 0.000\n",
      "batch 0 59     pred,y:   0.406 0.508\n",
      "batch 0 60     pred,y:   0.381 0.000\n",
      "batch 0 61     pred,y:  -0.000 0.000\n",
      "batch 0 62     pred,y:   0.724 0.286\n",
      "batch 0 63     pred,y:   0.825 0.286\n",
      "batch 0 64     pred,y:   1.141 0.000\n",
      "batch 0 65     pred,y:   1.091 0.690\n",
      "batch 0 66     pred,y:   0.860 0.000\n",
      "batch 0 67     pred,y:   0.000 0.286\n",
      "batch 0 68     pred,y:   0.358 0.000\n",
      "batch 0 69     pred,y:   0.626 0.286\n",
      "batch 0 70     pred,y:   0.688 1.199\n",
      "batch 0 71     pred,y:   0.722 1.940\n",
      "batch 0 72     pred,y:   0.539 0.286\n",
      "batch 0 73     pred,y:   0.606 0.508\n",
      "batch 0 74     pred,y:  -0.000 0.000\n",
      "batch 0 75     pred,y:   0.392 0.000\n",
      "batch 0 76     pred,y:   0.000 0.843\n",
      "batch 0 77     pred,y:   1.079 0.286\n",
      "batch 0 78     pred,y:   0.605 0.286\n",
      "batch 0 79     pred,y:   0.914 0.508\n",
      "batch 0 80     pred,y:   0.584 0.286\n",
      "batch 0 81     pred,y:   0.965 0.508\n",
      "batch 0 82     pred,y:   0.000 0.000\n",
      "batch 0 83     pred,y:   0.967 0.977\n",
      "batch 0 84     pred,y:  -0.085 0.000\n",
      "batch 0 85     pred,y:   0.623 0.000\n",
      "batch 0 86     pred,y:   0.253 0.286\n",
      "batch 0 87     pred,y:   0.585 0.977\n",
      "batch 0 88     pred,y:   0.938 0.977\n",
      "batch 0 89     pred,y:   0.000 1.199\n",
      "batch 0 90     pred,y:  -0.000 0.286\n",
      "batch 0 91     pred,y:   0.000 1.094\n",
      "batch 0 92     pred,y:   0.085 0.508\n",
      "batch 0 93     pred,y:   0.000 0.000\n",
      "batch 0 94     pred,y:   0.935 1.381\n",
      "batch 0 95     pred,y:   0.568 2.263\n",
      "batch 0 96     pred,y:   0.000 1.294\n",
      "batch 0 97     pred,y:   0.000 0.000\n",
      "batch 0 98     pred,y:   0.367 0.508\n",
      "batch 0 99     pred,y:   1.009 1.094\n",
      "batch 0 100    pred,y:  -1.593 0.000\n",
      "batch 0 101    pred,y:   0.967 1.669\n",
      "batch 0 102    pred,y:   0.698 1.729\n",
      "batch 0 103    pred,y:   0.535 0.000\n",
      "batch 0 104    pred,y:   0.000 0.000\n",
      "batch 0 105    pred,y:   0.406 0.286\n",
      "batch 0 106    pred,y:   0.602 0.000\n",
      "batch 0 107    pred,y:   0.000 0.977\n",
      "batch 0 108    pred,y:   0.572 1.786\n",
      "batch 0 109    pred,y:   0.741 0.508\n",
      "batch 0 110    pred,y:   0.592 0.000\n",
      "batch 0 111    pred,y:  -0.000 0.286\n",
      "batch 0 112    pred,y:   0.436 0.977\n",
      "batch 0 113    pred,y:   0.000 0.000\n",
      "batch 0 114    pred,y:   0.000 0.000\n",
      "batch 0 115    pred,y:   0.000 0.286\n",
      "batch 0 116    pred,y:   0.426 1.294\n",
      "batch 0 117    pred,y:   0.000 0.843\n",
      "batch 0 118    pred,y:   0.968 0.000\n",
      "batch 0 119    pred,y:   0.513 1.381\n",
      "batch 0 120    pred,y:   0.704 0.977\n",
      "batch 0 121    pred,y:   0.598 0.508\n",
      "batch 0 122    pred,y:   0.391 0.977\n",
      "batch 0 123    pred,y:   0.595 0.286\n",
      "batch 0 124    pred,y:   0.000 0.286\n",
      "batch 0 125    pred,y:  -0.000 1.094\n",
      "batch 0 126    pred,y:   1.030 0.286\n",
      "batch 0 127    pred,y:   0.654 0.000\n",
      "batch 0 128    pred,y:   0.488 0.286\n",
      "batch 0 129    pred,y:   0.612 0.690\n",
      "batch 0 130    pred,y:   0.607 1.840\n",
      "batch 0 131    pred,y:   0.679 0.690\n",
      "batch 0 132    pred,y:   0.646 0.977\n",
      "batch 0 133    pred,y:   0.437 0.000\n"
     ]
    }
   ],
   "source": [
    "for line in prediction_file:\n",
    "    print(line.strip())"
   ]
  },
  {
   "cell_type": "code",
   "execution_count": null,
   "id": "413f8c6f",
   "metadata": {},
   "outputs": [],
   "source": []
  }
 ],
 "metadata": {
  "kernelspec": {
   "display_name": "Python [conda env:opisca]",
   "language": "python",
   "name": "conda-env-opisca-py"
  },
  "language_info": {
   "codemirror_mode": {
    "name": "ipython",
    "version": 3
   },
   "file_extension": ".py",
   "mimetype": "text/x-python",
   "name": "python",
   "nbconvert_exporter": "python",
   "pygments_lexer": "ipython3",
   "version": "3.8.12"
  }
 },
 "nbformat": 4,
 "nbformat_minor": 5
}
