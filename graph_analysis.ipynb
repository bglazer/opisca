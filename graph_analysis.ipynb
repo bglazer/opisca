{
 "cells": [
  {
   "cell_type": "markdown",
   "id": "0b127286",
   "metadata": {},
   "source": [
    "## Why is ATAC paired data performing so poorly?"
   ]
  },
  {
   "cell_type": "code",
   "execution_count": 133,
   "id": "8261a5e5",
   "metadata": {},
   "outputs": [],
   "source": [
    "import pickle"
   ]
  },
  {
   "cell_type": "code",
   "execution_count": 134,
   "id": "6388d969",
   "metadata": {},
   "outputs": [],
   "source": [
    "from pprint import pprint"
   ]
  },
  {
   "cell_type": "code",
   "execution_count": 135,
   "id": "49bacc1a",
   "metadata": {},
   "outputs": [],
   "source": [
    "from collections import Counter"
   ]
  },
  {
   "cell_type": "code",
   "execution_count": 150,
   "id": "a10d1290",
   "metadata": {},
   "outputs": [],
   "source": [
    "graphs = pickle.load(open('input/graphs.pickle','rb'))\n",
    "graphs = {k:g for g,k in graphs}"
   ]
  },
  {
   "cell_type": "code",
   "execution_count": 151,
   "id": "2e1d6b62",
   "metadata": {},
   "outputs": [
    {
     "data": {
      "text/plain": [
       "8"
      ]
     },
     "execution_count": 151,
     "metadata": {},
     "output_type": "execute_result"
    }
   ],
   "source": [
    "len(graphs)"
   ]
  },
  {
   "cell_type": "code",
   "execution_count": 153,
   "id": "e8d0333e",
   "metadata": {},
   "outputs": [],
   "source": [
    "atac_graphs = {k:g for k,g in graphs.items() if 'atac_region' in k}"
   ]
  },
  {
   "cell_type": "code",
   "execution_count": 154,
   "id": "c60cceb5",
   "metadata": {},
   "outputs": [
    {
     "data": {
      "text/plain": [
       "{('tad',\n",
       "  'overlaps',\n",
       "  'atac_region'): <networkx.classes.digraph.DiGraph at 0x7f9b018aa0d0>,\n",
       " ('atac_region',\n",
       "  'overlaps',\n",
       "  'gene'): <networkx.classes.digraph.DiGraph at 0x7f9b015e40a0>,\n",
       " ('atac_region',\n",
       "  'neighbors',\n",
       "  'gene'): <networkx.classes.digraph.DiGraph at 0x7f9b01235f70>}"
      ]
     },
     "execution_count": 154,
     "metadata": {},
     "output_type": "execute_result"
    }
   ],
   "source": [
    "atac_graphs"
   ]
  },
  {
   "cell_type": "code",
   "execution_count": 140,
   "id": "a5e890f6",
   "metadata": {},
   "outputs": [
    {
     "name": "stdout",
     "output_type": "stream",
     "text": [
      "('tad', 'overlaps', 'atac_region')\n",
      "[(1, 116232)]\n",
      "('atac_region', 'overlaps', 'gene')\n",
      "[(0, 8615), (1, 14628), (2, 617), (3, 19), (4, 2), (5, 2), (14, 1)]\n",
      "('atac_region', 'neighbors', 'gene')\n",
      "[(0, 7445), (1, 23149), (2, 34110), (3, 28807), (4, 16691), (5, 5394), (6, 869)]\n"
     ]
    }
   ],
   "source": [
    "in_edges = {}\n",
    "for relation, graph in atac_graphs.items():\n",
    "    graph = graph.to_undirected()\n",
    "    in_edges[relation] = Counter()\n",
    "    for node in list(graph.nodes()):\n",
    "        # t=node type, k=node key\n",
    "        t, k = node\n",
    "        if t == 'atac_region':\n",
    "            ie = graph.edges(node)\n",
    "            if ie:\n",
    "                n = len(list(ie))\n",
    "                in_edges[relation][n]+=1\n",
    "            else:\n",
    "                in_edges[relation][0]+=1\n",
    "    print(relation)\n",
    "    pprint(sorted(in_edges[relation].items()))"
   ]
  },
  {
   "cell_type": "code",
   "execution_count": 141,
   "id": "77254654",
   "metadata": {},
   "outputs": [],
   "source": [
    "import networkx as nx"
   ]
  },
  {
   "cell_type": "code",
   "execution_count": 142,
   "id": "9666e949",
   "metadata": {},
   "outputs": [],
   "source": [
    "combined = nx.Graph()\n",
    "\n",
    "in_edges = {}\n",
    "for relation, graph in atac_graphs.items():\n",
    "    graph = graph.to_undirected()\n",
    "    combined = nx.compose(combined, graph)"
   ]
  },
  {
   "cell_type": "code",
   "execution_count": 143,
   "id": "38fc75c7",
   "metadata": {},
   "outputs": [
    {
     "data": {
      "text/plain": [
       "136686"
      ]
     },
     "execution_count": 143,
     "metadata": {},
     "output_type": "execute_result"
    }
   ],
   "source": [
    "combined.number_of_nodes()"
   ]
  },
  {
   "cell_type": "code",
   "execution_count": 144,
   "id": "47fd8af9",
   "metadata": {},
   "outputs": [
    {
     "data": {
      "text/plain": [
       "393615"
      ]
     },
     "execution_count": 144,
     "metadata": {},
     "output_type": "execute_result"
    }
   ],
   "source": [
    "combined.number_of_edges()"
   ]
  },
  {
   "cell_type": "code",
   "execution_count": 145,
   "id": "3bce788b",
   "metadata": {},
   "outputs": [],
   "source": [
    "combined_in_edges = Counter()\n",
    "for node in list(combined.nodes()):\n",
    "    # t=node type, k=node key\n",
    "    t, k = node\n",
    "    if t == 'atac_region':\n",
    "        ie = combined.edges(node)\n",
    "        if ie:\n",
    "            n = len(list(ie))\n",
    "            combined_in_edges[n]+=1\n",
    "        "
   ]
  },
  {
   "cell_type": "code",
   "execution_count": 146,
   "id": "fc83d492",
   "metadata": {},
   "outputs": [
    {
     "name": "stdout",
     "output_type": "stream",
     "text": [
      "  3  34093 34093\n",
      "  4  28832 62925\n",
      "  2  23091 86016\n",
      "  5  16700 102716\n",
      "  1   7393 110109\n",
      "  6   5442 115551\n",
      "  7    886 116437\n",
      "  8      8 116445\n",
      " 15      1 116446\n"
     ]
    }
   ],
   "source": [
    "c=0\n",
    "for num_edges, count in combined_in_edges.most_common():\n",
    "    c += count\n",
    "    print(f'{num_edges:3d} {count:6d} {c}')"
   ]
  },
  {
   "cell_type": "code",
   "execution_count": 147,
   "id": "d990bbb8",
   "metadata": {},
   "outputs": [
    {
     "data": {
      "text/plain": [
       "116446"
      ]
     },
     "execution_count": 147,
     "metadata": {},
     "output_type": "execute_result"
    }
   ],
   "source": [
    "sum(combined_in_edges.values())"
   ]
  },
  {
   "cell_type": "markdown",
   "id": "0427eec5",
   "metadata": {},
   "source": [
    "## Why are there ATAC regions with zero neighboring genes? \n",
    "\n",
    "KDTree should always return k results for nearest neighbor search"
   ]
  },
  {
   "cell_type": "code",
   "execution_count": 148,
   "id": "9b4268f4",
   "metadata": {},
   "outputs": [
    {
     "name": "stdout",
     "output_type": "stream",
     "text": [
      "('atac_region', 'chr20-63056176-63057074') 0\n",
      "('atac_region', 'chr20-63071550-63072399') 0\n",
      "('atac_region', 'chr20-63073124-63073951') 0\n",
      "('atac_region', 'chr20-63082120-63082947') 0\n",
      "('atac_region', 'chr20-63135249-63135879') 0\n",
      "('atac_region', 'chr20-63909387-63910281') 0\n",
      "('atac_region', 'chr20-63911016-63911911') 0\n",
      "('atac_region', 'chr20-63912780-63913648') 0\n",
      "('atac_region', 'chr3-198167392-198168299') 0\n",
      "('atac_region', 'chr3-198173451-198174154') 0\n",
      "('atac_region', 'chr21-8212819-8213728') 0\n",
      "('atac_region', 'chr21-8219517-8220424') 0\n",
      "('atac_region', 'chr21-8234038-8234950') 0\n",
      "('atac_region', 'chr5-181133379-181134219') 0\n",
      "('atac_region', 'chr5-181138103-181138986') 0\n",
      "('atac_region', 'chr5-181283845-181284586') 0\n",
      "('atac_region', 'chr16-10596-11363') 0\n",
      "('atac_region', 'chr11-135075573-135076400') 0\n",
      "('atac_region', 'chr1-9776-10668') 0\n"
     ]
    }
   ],
   "source": [
    "relation = ('atac_region', 'neighbors', 'gene')\n",
    "g = atac_graphs[relation]\n",
    "c = 0\n",
    "for node in g.nodes():\n",
    "    t,k = node\n",
    "    if t == 'atac_region':\n",
    "        n = len(combined.edges(node))\n",
    "        if n==0:\n",
    "            print(node, n)\n",
    "            c+=1\n",
    "            if c==100:\n",
    "                break"
   ]
  },
  {
   "cell_type": "code",
   "execution_count": null,
   "id": "1e1a8b21",
   "metadata": {},
   "outputs": [],
   "source": []
  },
  {
   "cell_type": "markdown",
   "id": "4244f61d",
   "metadata": {},
   "source": [
    "## What's the distribution of coexpression links"
   ]
  },
  {
   "cell_type": "code",
   "execution_count": 155,
   "id": "d5e7323c",
   "metadata": {},
   "outputs": [],
   "source": [
    "proteins = graphs[('protein', 'coexpressed', 'protein')]"
   ]
  },
  {
   "cell_type": "code",
   "execution_count": 156,
   "id": "437f73a3",
   "metadata": {},
   "outputs": [
    {
     "data": {
      "text/plain": [
       "18989"
      ]
     },
     "execution_count": 156,
     "metadata": {},
     "output_type": "execute_result"
    }
   ],
   "source": [
    "len(proteins)"
   ]
  },
  {
   "cell_type": "code",
   "execution_count": 161,
   "id": "4117417a",
   "metadata": {},
   "outputs": [],
   "source": [
    "from itertools import islice"
   ]
  },
  {
   "cell_type": "code",
   "execution_count": 164,
   "id": "5231ad84",
   "metadata": {},
   "outputs": [],
   "source": [
    "weights = []\n",
    "for edge in proteins.edges(data=True):\n",
    "    weights.append(edge[2]['weight'])\n"
   ]
  },
  {
   "cell_type": "code",
   "execution_count": 166,
   "id": "ba6ed01b",
   "metadata": {},
   "outputs": [],
   "source": [
    "from matplotlib import pyplot as plt "
   ]
  },
  {
   "cell_type": "code",
   "execution_count": 170,
   "id": "2b43135c",
   "metadata": {},
   "outputs": [],
   "source": [
    "import numpy as np"
   ]
  },
  {
   "cell_type": "code",
   "execution_count": 171,
   "id": "d5761c72",
   "metadata": {},
   "outputs": [
    {
     "data": {
      "image/png": "[encoded data removed]",
      "text/plain": [
       "<Figure size 640x480 with 1 Axes>"
      ]
     },
     "metadata": {},
     "output_type": "display_data"
    }
   ],
   "source": [
    "weights = np.array(weights)\n",
    "plt.hist(weights, bins=100);"
   ]
  },
  {
   "cell_type": "code",
   "execution_count": 172,
   "id": "e82471c1",
   "metadata": {},
   "outputs": [
    {
     "data": {
      "text/plain": [
       "391558"
      ]
     },
     "execution_count": 172,
     "metadata": {},
     "output_type": "execute_result"
    }
   ],
   "source": [
    "(weights > .25).sum()"
   ]
  },
  {
   "cell_type": "markdown",
   "id": "a060332d",
   "metadata": {},
   "source": [
    "## Consider trimming protein coexpression to only the most highly weighted connections"
   ]
  },
  {
   "cell_type": "code",
   "execution_count": 174,
   "id": "3357a7cb",
   "metadata": {},
   "outputs": [
    {
     "data": {
      "application/javascript": [
       "IPython.notebook.kernel.execute(IPython.notebook.name)\n"
      ],
      "text/plain": [
       "<IPython.core.display.Javascript object>"
      ]
     },
     "metadata": {},
     "output_type": "display_data"
    }
   ],
   "source": [
    "%%javascript\n",
    "IPython.notebook.kernel.execute(IPython.notebook.name)"
   ]
  },
  {
   "cell_type": "code",
   "execution_count": null,
   "id": "246bae27",
   "metadata": {},
   "outputs": [],
   "source": []
  }
 ],
 "metadata": {
  "kernelspec": {
   "display_name": "Python [conda env:opisca]",
   "language": "python",
   "name": "conda-env-opisca-py"
  },
  "language_info": {
   "codemirror_mode": {
    "name": "ipython",
    "version": 3
   },
   "file_extension": ".py",
   "mimetype": "text/x-python",
   "name": "python",
   "nbconvert_exporter": "python",
   "pygments_lexer": "ipython3",
   "version": "3.8.12"
  }
 },
 "nbformat": 4,
 "nbformat_minor": 5
}
