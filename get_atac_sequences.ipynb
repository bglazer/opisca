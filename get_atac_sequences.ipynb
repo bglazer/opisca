{
 "cells": [
  {
   "cell_type": "code",
   "execution_count": 1,
   "id": "b6ca1e3e",
   "metadata": {},
   "outputs": [],
   "source": [
    "import scanpy"
   ]
  },
  {
   "cell_type": "code",
   "execution_count": 2,
   "id": "352fd53b",
   "metadata": {},
   "outputs": [],
   "source": [
    "import numpy as np"
   ]
  },
  {
   "cell_type": "code",
   "execution_count": 3,
   "id": "f0691869",
   "metadata": {},
   "outputs": [],
   "source": [
    "data_files = !find 'output/datasets/predict_modality/' -type f -name '*train*h5ad'"
   ]
  },
  {
   "cell_type": "code",
   "execution_count": 4,
   "id": "775bc93f",
   "metadata": {},
   "outputs": [],
   "source": [
    "data = {}\n",
    "for filename in data_files:\n",
    "    data[filename.split('/')[-1]] = scanpy.read_h5ad(filename)"
   ]
  },
  {
   "cell_type": "code",
   "execution_count": 5,
   "id": "dd8c4be6",
   "metadata": {},
   "outputs": [],
   "source": [
    "atac_data = data['openproblems_bmmc_multiome_phase1_mod2.censor_dataset.output_train_mod1.h5ad']"
   ]
  },
  {
   "cell_type": "code",
   "execution_count": 8,
   "id": "6ece0fb7",
   "metadata": {},
   "outputs": [],
   "source": [
    "from urllib.request import urlopen"
   ]
  },
  {
   "cell_type": "code",
   "execution_count": 14,
   "id": "f41a4ceb",
   "metadata": {},
   "outputs": [],
   "source": [
    "from time import sleep"
   ]
  },
  {
   "cell_type": "code",
   "execution_count": null,
   "id": "aa165721",
   "metadata": {},
   "outputs": [],
   "source": [
    "from random import random"
   ]
  },
  {
   "cell_type": "code",
   "execution_count": 35,
   "id": "d21e0825",
   "metadata": {},
   "outputs": [],
   "source": [
    "from xml.etree.ElementTree import fromstring"
   ]
  },
  {
   "cell_type": "code",
   "execution_count": 61,
   "id": "1ba6e567",
   "metadata": {},
   "outputs": [
    {
     "name": "stdout",
     "output_type": "stream",
     "text": [
      "0.00\n",
      "1.00\n",
      "2.00\n",
      "3.00\n",
      "4.00\n",
      "5.00\n",
      "6.00\n",
      "7.00\n",
      "8.00\n",
      "9.00\n",
      "10.00\n",
      "11.00\n",
      "12.00\n",
      "13.00\n",
      "14.00\n",
      "15.00\n",
      "16.00\n",
      "17.00\n",
      "18.00\n",
      "19.00\n",
      "20.00\n",
      "21.00\n",
      "22.00\n",
      "23.00\n",
      "24.00\n",
      "25.00\n",
      "26.00\n",
      "27.00\n",
      "28.00\n",
      "29.00\n",
      "30.00\n",
      "31.00\n",
      "32.00\n",
      "33.00\n",
      "34.00\n",
      "35.00\n",
      "36.00\n",
      "37.00\n",
      "38.00\n",
      "39.00\n",
      "40.00\n",
      "41.00\n",
      "42.00\n",
      "43.00\n",
      "44.00\n",
      "45.00\n",
      "46.00\n",
      "47.00\n",
      "48.00\n",
      "49.00\n",
      "50.00\n",
      "51.00\n",
      "52.00\n",
      "53.00\n",
      "54.00\n",
      "55.00\n",
      "56.00\n",
      "57.00\n",
      "58.00\n",
      "59.00\n",
      "60.00\n",
      "61.00\n",
      "62.00\n",
      "63.00\n",
      "64.00\n",
      "65.00\n",
      "66.00\n",
      "67.00\n",
      "68.00\n",
      "69.00\n",
      "70.00\n",
      "71.00\n",
      "72.00\n",
      "73.00\n",
      "74.00\n",
      "75.00\n",
      "76.00\n",
      "77.00\n",
      "78.00\n",
      "79.00\n",
      "80.00\n",
      "81.00\n",
      "82.00\n",
      "83.00\n",
      "84.00\n",
      "85.00\n",
      "86.00\n",
      "87.00\n",
      "88.00\n",
      "89.00\n",
      "90.00\n",
      "91.00\n",
      "92.00\n",
      "93.00\n",
      "94.00\n",
      "95.00\n",
      "96.00\n",
      "97.00\n",
      "98.00\n",
      "99.00\n",
      "100.00\n"
     ]
    },
    {
     "ename": "ParseError",
     "evalue": "no element found: line 6, column 0 (<string>)",
     "output_type": "error",
     "traceback": [
      "Traceback \u001b[0;36m(most recent call last)\u001b[0m:\n",
      "  File \u001b[1;32m\"/home/bglaze/miniconda3/envs/opisca/lib/python3.8/site-packages/IPython/core/interactiveshell.py\"\u001b[0m, line \u001b[1;32m3444\u001b[0m, in \u001b[1;35mrun_code\u001b[0m\n    exec(code_obj, self.user_global_ns, self.user_ns)\n",
      "  File \u001b[1;32m\"/tmp/ipykernel_1084439/1486426102.py\"\u001b[0m, line \u001b[1;32m12\u001b[0m, in \u001b[1;35m<module>\u001b[0m\n    xml = fromstring(data)\n",
      "\u001b[0;36m  File \u001b[0;32m\"/home/bglaze/miniconda3/envs/opisca/lib/python3.8/xml/etree/ElementTree.py\"\u001b[0;36m, line \u001b[0;32m1321\u001b[0;36m, in \u001b[0;35mXML\u001b[0;36m\u001b[0m\n\u001b[0;31m    return parser.close()\u001b[0m\n",
      "\u001b[0;36m  File \u001b[0;32m\"<string>\"\u001b[0;36m, line \u001b[0;32munknown\u001b[0m\n\u001b[0;31mParseError\u001b[0m\u001b[0;31m:\u001b[0m no element found: line 6, column 0\n"
     ]
    }
   ],
   "source": [
    "atacs = atac_data.var.index.to_list()\n",
    "\n",
    "atac_seqs = {}\n",
    "N = int(len(atacs)/100)\n",
    "\n",
    "for i,region in enumerate(atacs):\n",
    "    if i%N == 0:\n",
    "        print(f'{i/N:.2f}')\n",
    "    chrm, start, end = region.split('-')\n",
    "    url = f'http://genome.ucsc.edu/cgi-bin/das/hg38/dna?segment={chrm}:{start},{end}'\n",
    "    data = urlopen(url).read()\n",
    "    xml = fromstring(data)\n",
    "    seq = xml[0][0].text\n",
    "    seq = seq.replace('\\n','')\n",
    "    atac_seqs[region] = seq\n",
    "    sleep(.01)\n",
    "    "
   ]
  },
  {
   "cell_type": "code",
   "execution_count": 62,
   "id": "22e68502",
   "metadata": {},
   "outputs": [
    {
     "data": {
      "text/plain": [
       "116468"
      ]
     },
     "execution_count": 62,
     "metadata": {},
     "output_type": "execute_result"
    }
   ],
   "source": [
    "len(atac_seqs)"
   ]
  },
  {
   "cell_type": "code",
   "execution_count": 63,
   "id": "e642fb99",
   "metadata": {},
   "outputs": [],
   "source": [
    "import pickle"
   ]
  },
  {
   "cell_type": "code",
   "execution_count": 64,
   "id": "c9ff7c9f",
   "metadata": {},
   "outputs": [],
   "source": [
    "pickle.dump(atac_seqs, open('input/atac_sequences.pickle','wb'))"
   ]
  },
  {
   "cell_type": "code",
   "execution_count": 66,
   "id": "b128aa68",
   "metadata": {},
   "outputs": [],
   "source": [
    "from collections import Counter"
   ]
  },
  {
   "cell_type": "code",
   "execution_count": 70,
   "id": "b750eb96",
   "metadata": {},
   "outputs": [
    {
     "data": {
      "text/plain": [
       "[(904, 1371),\n",
       " (903, 1348),\n",
       " (899, 1328),\n",
       " (901, 1324),\n",
       " (906, 1306),\n",
       " (900, 1293),\n",
       " (908, 1291),\n",
       " (905, 1285),\n",
       " (907, 1280),\n",
       " (895, 1267)]"
      ]
     },
     "execution_count": 70,
     "metadata": {},
     "output_type": "execute_result"
    }
   ],
   "source": [
    "seq_lens = Counter()\n",
    "for atac,seq in atac_seqs.items():\n",
    "    seq_lens[len(seq)]+=1\n",
    "\n",
    "seq_lens.most_common(10)"
   ]
  },
  {
   "cell_type": "code",
   "execution_count": 68,
   "id": "8f8847fb",
   "metadata": {},
   "outputs": [
    {
     "data": {
      "text/plain": [
       "1741"
      ]
     },
     "execution_count": 68,
     "metadata": {},
     "output_type": "execute_result"
    }
   ],
   "source": [
    "max(seq_lens)"
   ]
  },
  {
   "cell_type": "code",
   "execution_count": 69,
   "id": "0b38ec47",
   "metadata": {},
   "outputs": [
    {
     "data": {
      "text/plain": [
       "213"
      ]
     },
     "execution_count": 69,
     "metadata": {},
     "output_type": "execute_result"
    }
   ],
   "source": [
    "min(seq_lens)"
   ]
  },
  {
   "cell_type": "code",
   "execution_count": 71,
   "id": "c9a39483",
   "metadata": {},
   "outputs": [],
   "source": [
    "def chunks(lst, n):\n",
    "    \"\"\"Yield successive n-sized chunks from lst.\"\"\"\n",
    "    for i in range(0, len(lst), n):\n",
    "        yield lst[i:i + n]"
   ]
  },
  {
   "cell_type": "code",
   "execution_count": 80,
   "id": "17aa4b3e",
   "metadata": {},
   "outputs": [
    {
     "name": "stdout",
     "output_type": "stream",
     "text": [
      "22\n"
     ]
    }
   ],
   "source": [
    "ns = 0\n",
    "for atac, seq in atac_seqs.items():\n",
    "    if 'n' in seq:\n",
    "        ns+=1\n",
    "print(ns)"
   ]
  },
  {
   "cell_type": "code",
   "execution_count": 81,
   "id": "95c4a041",
   "metadata": {},
   "outputs": [
    {
     "name": "stdout",
     "output_type": "stream",
     "text": [
      "[('t', 24938768), ('a', 24935259), ('g', 24698723), ('c', 24643051), ('n', 1795)]\n"
     ]
    }
   ],
   "source": [
    "chars = Counter()\n",
    "for atac, seq in atac_seqs.items():\n",
    "    for ch in seq:\n",
    "        chars[ch]+=1\n",
    "print(chars.most_common())"
   ]
  },
  {
   "cell_type": "code",
   "execution_count": 90,
   "id": "04ae4da2",
   "metadata": {},
   "outputs": [],
   "source": [
    "atac_list = []\n",
    "seq_list = []\n",
    "for atac, seq in list(atac_seqs.items()):\n",
    "    seq = seq.replace('n','')\n",
    "    seq = seq.upper()\n",
    "    # Trim to length multiple of chunksize=6\n",
    "    seq = seq[:len(seq)-(len(seq)%6)]\n",
    "    seq = ' '.join(list(chunks(seq,6)))\n",
    "    seq_list.append(seq)\n",
    "    atac_list.append(atac)"
   ]
  },
  {
   "cell_type": "code",
   "execution_count": 91,
   "id": "d292d87f",
   "metadata": {},
   "outputs": [
    {
     "data": {
      "text/plain": [
       "'ACTCCA TTCCAC TCCATC CCGTTC CATTCC GCTCCA TCCCAC TGCACT CCACTC CACCCC TCTCCA CTCCTC TTCCTT CATTCC ATTCCA TTCCAC CTTTTT CCATTC CTCTTG ATTGCA CTCCAA TCCACT TCACTC CACTCC ACTCCA ATCCAT TCCATT CCATTC CACTGC ATTCAA TTCCAT TCCTTT CTTTAG AGAGTA TCTCAC TCTGTC ACCAAG CCTGGA GTGCAG TGGCAC AATCTC AGCTCA CATTTC ATTTCA CCATTC CATTGC ATTCTA CTCCAT TAAATT CCACTC CACTCC ACTCCA ATCCAT TCCACT CCACTC CACTCC ATTCCA GTCCAC TCCAGT CCTTTC CATTCC ATCCCA TTCCAT TCCACT CCTTTC TACTCC ACTCCA CTGCTC TCAACT CCATTA CATTCC ATTCCA CTCCAT TCCATT CCAGTA CTTTCT TTTGAC TGTATC TCACTC TGTCAC CCAGGC TGGTGT GCAGTG GCACAA TCTCAG CTCACA TTTCAT TTCACC ATTCCA TTCCAT TCCATT CCACTG CACTGC ACTCCA CTCAAT TCCACT CCACTC TACTCC AATCCG TTCCAT TCCATT TCAATC CCTTCC ATTCCA CTCCTT TCTTTC GACAGG GTCTCC CTCTGT CACACA GGCTGT AGTGCA GGTGAT GAGACT ATTTTA TAGTCT CTGTGT ATGGGG GCATTT TGACCT ATCTCT GCACTG ATCACC CAAGTG ATGTAA CACTTG ACTATG CTCTGC CTATTG GGGCAT AGTGAC ATATCA CTGCAT TGATCA CTCAGA TGTTGT AGCTCT TGCCTA GGCTCT GCCTAC ATGGGC ATTGTG ACACAT CTCTGA ACTGAT CAACCA AGTGAT GTAACC CTTGTC'"
      ]
     },
     "execution_count": 91,
     "metadata": {},
     "output_type": "execute_result"
    }
   ],
   "source": [
    "seq"
   ]
  },
  {
   "cell_type": "code",
   "execution_count": 92,
   "id": "140a0a84",
   "metadata": {},
   "outputs": [],
   "source": [
    "with open('input/atac_list.txt','w') as atac_file:\n",
    "    for atac in atac_list:\n",
    "        print(atac, file=atac_file)\n",
    "with open('input/atac_sequences.txt','w') as seq_file:\n",
    "    for seq in seq_list:\n",
    "        print(seq, file=seq_file)"
   ]
  },
  {
   "cell_type": "code",
   "execution_count": null,
   "id": "da1a2442",
   "metadata": {},
   "outputs": [],
   "source": []
  }
 ],
 "metadata": {
  "kernelspec": {
   "display_name": "Python [conda env:opisca]",
   "language": "python",
   "name": "conda-env-opisca-py"
  },
  "language_info": {
   "codemirror_mode": {
    "name": "ipython",
    "version": 3
   },
   "file_extension": ".py",
   "mimetype": "text/x-python",
   "name": "python",
   "nbconvert_exporter": "python",
   "pygments_lexer": "ipython3",
   "version": "3.8.12"
  }
 },
 "nbformat": 4,
 "nbformat_minor": 5
}
