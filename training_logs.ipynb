{
 "cells": [
  {
   "cell_type": "code",
   "execution_count": 1,
   "id": "fe569201",
   "metadata": {},
   "outputs": [],
   "source": [
    "from matplotlib import pyplot as plt "
   ]
  },
  {
   "cell_type": "code",
   "execution_count": 2,
   "id": "54eecae7",
   "metadata": {},
   "outputs": [],
   "source": [
    "import json"
   ]
  },
  {
   "cell_type": "code",
   "execution_count": 3,
   "id": "0464e277",
   "metadata": {},
   "outputs": [],
   "source": [
    "import re"
   ]
  },
  {
   "cell_type": "code",
   "execution_count": 4,
   "id": "9af7a1d4",
   "metadata": {},
   "outputs": [],
   "source": [
    "import numpy as np"
   ]
  },
  {
   "cell_type": "code",
   "execution_count": 5,
   "id": "c91c666b",
   "metadata": {},
   "outputs": [],
   "source": [
    "def bucket(x, size):\n",
    "    l = len(x)\n",
    "    buckets = []\n",
    "    i = 0\n",
    "    while i < l:\n",
    "        buckets.append(sum(x[i:i+size])/len(x[i:i+size]))\n",
    "        i+=size\n",
    "    return buckets"
   ]
  },
  {
   "cell_type": "code",
   "execution_count": 6,
   "id": "4144c1ae",
   "metadata": {},
   "outputs": [],
   "source": [
    "def moving_average(x, w):\n",
    "    return np.convolve(x, np.ones(w), 'valid') / w"
   ]
  },
  {
   "cell_type": "code",
   "execution_count": 17,
   "id": "c73d1631",
   "metadata": {},
   "outputs": [],
   "source": [
    "class LogReader():\n",
    "    def __init__(self, filename, keys):\n",
    "        self.file = open(f'{filename}')\n",
    "        self.rgx = re.compile(f'^({\"|\".join(keys)}).*')\n",
    "        self.matches = {}\n",
    "        for key in keys:\n",
    "            self.matches[key]=[]\n",
    "    \n",
    "    def grab(self):\n",
    "        line = next(self.file, None)\n",
    "        while line:\n",
    "            match = self.rgx.match(line)\n",
    "            if match:\n",
    "                self.matches[match.group(1)].append(float(line.strip().split(' ')[-1]))\n",
    "            line = next(self.file, None)\n",
    "        return self.matches"
   ]
  },
  {
   "cell_type": "code",
   "execution_count": 18,
   "id": "787ccabf",
   "metadata": {},
   "outputs": [],
   "source": [
    "keys = [\n",
    "    'zero one loss',\n",
    "    'value loss',\n",
    "    'Batch',\n",
    "]"
   ]
  },
  {
   "cell_type": "markdown",
   "id": "f67bcaa1",
   "metadata": {},
   "source": [
    "#### Bucket Size"
   ]
  },
  {
   "cell_type": "code",
   "execution_count": 19,
   "id": "db2c64ff",
   "metadata": {},
   "outputs": [],
   "source": [
    "bucket_size = 10"
   ]
  },
  {
   "cell_type": "code",
   "execution_count": 20,
   "id": "5285cd94",
   "metadata": {},
   "outputs": [],
   "source": [
    "readers = {}\n",
    "matches = {}"
   ]
  },
  {
   "cell_type": "markdown",
   "id": "36c31fb4",
   "metadata": {},
   "source": [
    "#### Timestamp of run"
   ]
  },
  {
   "cell_type": "code",
   "execution_count": 21,
   "id": "fba3f61f",
   "metadata": {},
   "outputs": [],
   "source": [
    "files = [\n",
    "        'logs/train_earl_20211025-1536.log',\n",
    "         ]"
   ]
  },
  {
   "cell_type": "code",
   "execution_count": 22,
   "id": "eb4658c5",
   "metadata": {},
   "outputs": [],
   "source": [
    "for file in files:\n",
    "    if file not in readers:\n",
    "        readers[file] = LogReader(file, keys)\n",
    "        matches = readers[file].grab()"
   ]
  },
  {
   "cell_type": "markdown",
   "id": "8450fc08",
   "metadata": {},
   "source": [
    "## Get matching log lines"
   ]
  },
  {
   "cell_type": "code",
   "execution_count": 23,
   "id": "1be4f55b",
   "metadata": {},
   "outputs": [],
   "source": [
    "file = files[0]"
   ]
  },
  {
   "cell_type": "code",
   "execution_count": 24,
   "id": "27bed61e",
   "metadata": {
    "scrolled": true
   },
   "outputs": [],
   "source": [
    "matches = readers[file].grab()"
   ]
  },
  {
   "cell_type": "markdown",
   "id": "cc08ccd5",
   "metadata": {},
   "source": [
    "## Current Epoch"
   ]
  },
  {
   "cell_type": "code",
   "execution_count": 25,
   "id": "661d6263",
   "metadata": {},
   "outputs": [
    {
     "data": {
      "text/plain": [
       "0.5880925031515288"
      ]
     },
     "execution_count": 25,
     "metadata": {},
     "output_type": "execute_result"
    }
   ],
   "source": [
    "batch = matches['Batch'][-1]\n",
    "batch"
   ]
  },
  {
   "cell_type": "markdown",
   "id": "59af7c04",
   "metadata": {},
   "source": [
    "## Similarity"
   ]
  },
  {
   "cell_type": "code",
   "execution_count": 26,
   "id": "fbc1ad8e",
   "metadata": {},
   "outputs": [
    {
     "data": {
      "text/plain": [
       "[<matplotlib.lines.Line2D at 0x7f53ae88c760>]"
      ]
     },
     "execution_count": 26,
     "metadata": {},
     "output_type": "execute_result"
    },
    {
     "data": {
      "image/png": "[encoded data removed]",
      "text/plain": [
       "<Figure size 1080x720 with 1 Axes>"
      ]
     },
     "metadata": {
      "needs_background": "light"
     },
     "output_type": "display_data"
    }
   ],
   "source": [
    "wasserstein = matches['Batch']\n",
    "plt.figure(figsize=(15,10))\n",
    "plt.grid(axis='y')\n",
    "# plt.plot(bucket(wasserstein, bucket_size))\n",
    "plt.plot(moving_average(wasserstein, 500))"
   ]
  },
  {
   "cell_type": "code",
   "execution_count": null,
   "id": "d4634189",
   "metadata": {},
   "outputs": [],
   "source": []
  }
 ],
 "metadata": {
  "kernelspec": {
   "display_name": "Python [conda env:opisca]",
   "language": "python",
   "name": "conda-env-opisca-py"
  },
  "language_info": {
   "codemirror_mode": {
    "name": "ipython",
    "version": 3
   },
   "file_extension": ".py",
   "mimetype": "text/x-python",
   "name": "python",
   "nbconvert_exporter": "python",
   "pygments_lexer": "ipython3",
   "version": "3.8.12"
  }
 },
 "nbformat": 4,
 "nbformat_minor": 5
}
