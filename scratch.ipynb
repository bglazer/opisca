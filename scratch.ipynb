{
 "cells": [
  {
   "cell_type": "markdown",
   "id": "7362ca73",
   "metadata": {},
   "source": [
    "## Uniprot data"
   ]
  },
  {
   "cell_type": "code",
   "execution_count": 1,
   "id": "3e70501e",
   "metadata": {},
   "outputs": [],
   "source": [
    "import re"
   ]
  },
  {
   "cell_type": "code",
   "execution_count": 2,
   "id": "175a37a0",
   "metadata": {},
   "outputs": [],
   "source": [
    "# uniprot_names = {}\n",
    "# uniprot_ensembl = {}\n",
    "# gene_protein_graph = nx.DiGraph()\n",
    "# name_pattern = re.compile(r'(?:Name|Synonyms)=(.+?)[{;]')\n",
    "# gene_transcript = {}\n",
    "# transcript_gene = {}\n",
    "\n",
    "# for line in open('input/ucsc_ensembl_transcripts_mapped_to_uniprot.txt'):\n",
    "#     line = line.strip().split(' ',1)\n",
    "# #     print(line)\n",
    "#     if len(line)==2:\n",
    "#         data_type, data = line\n",
    "#         if data_type == 'ID':\n",
    "#             uniprot_id = data.strip(' \\n').lstrip(' ').split(' ')[0]\n",
    "#             uniprot_names[uniprot_id] = []\n",
    "#             uniprot_ensembl[uniprot_id] = []\n",
    "#         if data_type == 'GN':\n",
    "#             data = data.strip(' \\n')\n",
    "#             names = re.findall(name_pattern, data)\n",
    "#             for name_matches in names:\n",
    "#                 names = name_matches.lstrip().strip().split(',')\n",
    "#                 for name in names:\n",
    "#                     if len(name)<3 or len(name)>10:\n",
    "#                         print(name,'-->',line)\n",
    "#                     uniprot_names[uniprot_id].append(name.lstrip().strip().upper())\n",
    "#         elif data_type == 'DR':\n",
    "#             ensembl_fields = data.strip().split('.')[0].split('; ')\n",
    "#             if 'Ensembl' == ensembl_fields[0]:\n",
    "#                 uniprot_ensembl[uniprot_id] += ensembl_fields[1:]\n",
    "#                 for gene_protein in ensembl_fields[1:]:\n",
    "#                     if 'ENSP' in gene_protein:\n",
    "#                         protein = gene_protein\n",
    "#                     if 'ENST' in gene_protein:\n",
    "#                         transcript = gene_protein\n",
    "#                     if 'ENSG' in gene_protein:\n",
    "#                         gene = gene_protein\n",
    "                \n",
    "#                 gene_transcript[gene] = transcript\n",
    "#                 transcript_gene[transcript] = gene\n",
    "#                 gene_protein_graph.add_edge(gene, protein, interaction_type='gene_protein', weight=1.0)\n",
    "#                 gene_protein_graph.add_edge(protein, gene, interaction_type='protein_gene', weight=1.0)\n",
    "# #                 gene_protein_graph.add_edge(protein, transcript, interaction_type='protein_transcript', weight=1.0)\n",
    "# #                 gene_protein_graph.add_edge(transcript, protein, interaction_type='transcript_protein', weight=1.0)\n",
    "# #                 gene_protein_graph.add_edge(gene, transcript, interaction_type='gene_transcript', weight=1.0)\n",
    "# #                 gene_protein_graph.add_edge(transcript, gene, interaction_type='transcript_gene', weight=1.0)\n",
    "#         elif data_type  == 'DE':\n",
    "#             if data.lstrip().startswith('AltName: CD_antigen'):\n",
    "#                 antigen_name = data.split('=')[1].strip(';').split(' ')[0]\n",
    "#                 uniprot_names[uniprot_id].append(antigen_name.upper())\n",
    "#     elif line=='//\\n':\n",
    "#         uniprot_id = 'NONE'\n",
    "        "
   ]
  },
  {
   "cell_type": "code",
   "execution_count": 3,
   "id": "8e8e58da",
   "metadata": {},
   "outputs": [],
   "source": [
    "# gene_ensembl_id = {}\n",
    "# ensembl_gene_names = {}\n",
    "# for uniprot_id, gene_names in uniprot_names.items():\n",
    "#     for gene in gene_names:\n",
    "#         gene_ensembl_id[gene.upper()] = uniprot_ensembl[uniprot_id]\n",
    "\n",
    "# for uniprot_id, ensembl_ids in uniprot_ensembl.items():\n",
    "#     for ensembl_id in ensembl_ids:\n",
    "#         ensembl_gene_names[ensembl_id] = uniprot_names[uniprot_id]"
   ]
  },
  {
   "cell_type": "code",
   "execution_count": 4,
   "id": "67996565",
   "metadata": {},
   "outputs": [],
   "source": [
    "# gene_lens = Counter()\n",
    "# for gene in gene_ensembl_id:\n",
    "#     gene_lens[len(gene)] += 1\n",
    "# gene_lens.most_common()"
   ]
  },
  {
   "cell_type": "code",
   "execution_count": 5,
   "id": "8ae6c018",
   "metadata": {
    "scrolled": true
   },
   "outputs": [],
   "source": [
    "# weird_genes = []\n",
    "# for gene in gene_ensembl_id:\n",
    "#     if len(gene) < 3 or len(gene) > 9:\n",
    "#         weird_genes.append((len(gene_ensembl_id[gene]), gene))\n",
    "# sorted(weird_genes)"
   ]
  },
  {
   "cell_type": "code",
   "execution_count": 6,
   "id": "ba2e0f47",
   "metadata": {},
   "outputs": [],
   "source": [
    "# print(gene_protein_graph.number_of_nodes())\n",
    "# print(gene_protein_graph.number_of_edges())"
   ]
  },
  {
   "cell_type": "code",
   "execution_count": 7,
   "id": "7f9b4d72",
   "metadata": {},
   "outputs": [],
   "source": [
    "# len(uniprot_names)"
   ]
  },
  {
   "cell_type": "code",
   "execution_count": 8,
   "id": "b525eb0e",
   "metadata": {},
   "outputs": [],
   "source": [
    "# len(uniprot_ensembl)"
   ]
  },
  {
   "cell_type": "code",
   "execution_count": 9,
   "id": "78f44c9d",
   "metadata": {},
   "outputs": [],
   "source": [
    "# uniprot_names['MYCL_HUMAN']"
   ]
  },
  {
   "cell_type": "code",
   "execution_count": 10,
   "id": "e8063979",
   "metadata": {},
   "outputs": [],
   "source": [
    "# uniprot_ensembl['MYCL_HUMAN']"
   ]
  },
  {
   "cell_type": "code",
   "execution_count": 11,
   "id": "955616bf",
   "metadata": {},
   "outputs": [],
   "source": [
    "# Counter([len(v) for v in uniprot_ensembl.values()]).most_common(10)"
   ]
  },
  {
   "cell_type": "code",
   "execution_count": 12,
   "id": "a5b12fc8",
   "metadata": {},
   "outputs": [],
   "source": [
    "# Counter([len(v) for v in uniprot_names.values()]).most_common(10)"
   ]
  },
  {
   "cell_type": "code",
   "execution_count": 13,
   "id": "e1283509",
   "metadata": {},
   "outputs": [],
   "source": [
    "# gene_ensembl_id['MYCL']"
   ]
  },
  {
   "cell_type": "code",
   "execution_count": 14,
   "id": "c3f62108",
   "metadata": {},
   "outputs": [],
   "source": [
    "# ensembl_gene_names['ENST00000372815']"
   ]
  },
  {
   "cell_type": "markdown",
   "id": "d707cbe0",
   "metadata": {},
   "source": [
    "## Link all protein names to Ensembl ID's"
   ]
  },
  {
   "cell_type": "code",
   "execution_count": 15,
   "id": "b5935fc7",
   "metadata": {},
   "outputs": [],
   "source": [
    "# manually_mapped_proteins = {\n",
    "# 'CD3':['ENST00000361763','ENSP00000354566','ENSG00000198851','ENST00000532917','ENSP00000431445','ENSG00000160654','ENST00000392884','ENSP00000376622','ENSG00000167286','ENST00000300692','ENSP00000300692','ENSG00000167286'], \n",
    "# 'CD8':['ENST00000331469','ENSP00000331172','ENSG00000172116','ENST00000349455','ENSP00000340592','ENSG00000172116','ENST00000390655','ENSP00000375070','ENSG00000172116','ENST00000393759','ENSP00000377356','ENSG00000172116','ENST00000393761','ENSP00000377358','ENSG00000172116','ENST00000283635','ENSP00000283635','ENSG00000153563','ENST00000352580','ENSP00000321631','ENSG00000153563','ENST00000409511','ENSP00000386559','ENSG00000153563','ENST00000643224','ENSP00000496416','ENSG00000254126'], \n",
    "# 'HLA-A-B-C':['ENST00000376228','ENSP00000365402','ENSG00000204525','ENST00000412585','ENSP00000399168','ENSG00000234745','ENST00000376228','ENSP00000365402','ENSG00000204525',''], \n",
    "# 'CD45RA':['ENST00000348564','ENSP00000306782','ENSG00000081237','ENST00000442510','ENSP00000411355','ENSG00000081237','ENST00000573477','ENSP00000461074','ENSG00000262418','ENST00000573679','ENSP00000458322','ENSG00000262418'], \n",
    "# 'CD16':['ENST00000367964','ENSP00000356941','ENSG00000162747','ENST00000367967','ENSP00000356944','ENSG00000203747','ENST00000436743','ENSP00000416607','ENSG00000203747','ENST00000443193','ENSP00000392047','ENSG00000203747'], \n",
    "# 'CD45RO':['ENST00000348564','ENSP00000306782','ENSG00000081237','ENST00000442510','ENSP00000411355','ENSG00000081237','ENST00000573477','ENSP00000461074','ENSG00000262418','ENST00000573679','ENSP00000458322','ENSG00000262418'], \n",
    "# 'Podoplanin':['ENST00000294489','ENSP00000294489','ENSG00000162493','ENST00000376057','ENSP00000365225','ENSG00000162493','ENST00000376061','ENSP00000365229','ENSG00000162493','ENST00000475043','ENSP00000426063','ENSG00000162493','ENST00000487038','ENSP00000427537','ENSG00000162493','ENST00000513143','ENSP00000425304','ENSG00000162493','ENST00000621990','ENSP00000478125','ENSG00000162493'], \n",
    "# 'IgM':['ENST00000390559','ENSP00000375001','ENSG00000211899','ENST00000626472','ENSP00000485962','ENSG00000282657','ENST00000637539','ENSP00000490253','ENSG00000211899'], \n",
    "# 'HLA-DR':['ENST00000383127','ENSP00000372608','ENSG00000227993','ENST00000383259','ENSP00000372746','ENSG00000206308','ENST00000395388','ENSP00000378786','ENSG00000204287','ENST00000411524','ENSP00000405295','ENSG00000234794','ENST00000414698','ENSP00000402951','ENSG00000230726','ENST00000416883','ENSP00000410443','ENSG00000228987','ENST00000442960','ENSP00000404533','ENSG00000226260','ENST00000360004','ENSP00000353099','ENSG00000196126','ENST00000307137','ENSP00000302517','ENSG00000196101','ENST00000383126','ENSP00000372607','ENSG00000231679'], \n",
    "# 'IgD':['ENST00000613640','ENSP00000478893','ENSG00000211898'], \n",
    "# 'TCRVa7.2':['ENST00000390423','ENSP00000439668','ENSG00000256553'], \n",
    "# 'TCRVd2':['ENST00000390469','ENSP00000451578','ENSG00000211821'], \n",
    "# 'CD85j':['ENST00000612636','ENSP00000479887','ENSG00000277807','ENST00000616408','ENSP00000481700','ENSG00000274669','ENST00000617686','ENSP00000478282','ENSG00000277807','ENST00000618055','ENSP00000480365','ENSG00000277807','ENST00000618681','ENSP00000479753','ENSG00000277807']\n",
    "# }\n",
    "# for name in manually_mapped_proteins:\n",
    "#     gene_ensembl_id[name.upper()] = manually_mapped_proteins[name]"
   ]
  },
  {
   "cell_type": "code",
   "execution_count": 16,
   "id": "d23c83a5",
   "metadata": {},
   "outputs": [],
   "source": [
    "# synonyms ={\n",
    "# 'integrinB7':['ITGB7'], \n",
    "# 'CD57':['B3GAT1'], \n",
    "# 'TCR':['TRAR1'], \n",
    "# 'FceRIa':['FCE1A'], \n",
    "# 'CD158':['CD158A','CD158K','CD158D'], \n",
    "# 'CD158b':['CD158B2'], \n",
    "# 'CD158e1':['CD158E'], \n",
    "# 'LOX-1':['LOX1'], \n",
    "# }\n",
    "# for name in synonyms:\n",
    "#     for synonym in synonyms[name]:\n",
    "#         gene_ensembl_id[name.upper()] = gene_ensembl_id[synonym]"
   ]
  },
  {
   "cell_type": "code",
   "execution_count": 17,
   "id": "c7f88a79",
   "metadata": {},
   "outputs": [],
   "source": [
    "# unmapped = []\n",
    "# mapped = []\n",
    "# for protein_name in protein_names:\n",
    "#     if protein_name.upper() not in gene_ensembl_id:\n",
    "#         unmapped.append(protein_name)\n",
    "#     else:\n",
    "#         mapped.append(protein_name)\n",
    "# print(len(unmapped),len(mapped))"
   ]
  },
  {
   "cell_type": "code",
   "execution_count": 18,
   "id": "9d161c68",
   "metadata": {},
   "outputs": [],
   "source": [
    "# print('MAPPED TO UNIPROT')\n",
    "# for not_in_hgnc in protein_not_in_hgnc:\n",
    "#     if not_in_hgnc in gene_ensembl_id:\n",
    "#         print(f\"'{not_in_hgnc}': {gene_ensembl_id[not_in_hgnc]},\")\n",
    "\n",
    "# print('-'*80)\n",
    "# print('NOT IN UNIPROT')\n",
    "# for not_in_hgnc in protein_not_in_hgnc:\n",
    "#     if not_in_hgnc not in gene_ensembl_id:\n",
    "#         print(f\"'{not_in_hgnc}': \")\n"
   ]
  },
  {
   "cell_type": "markdown",
   "id": "031178f3",
   "metadata": {},
   "source": [
    "## UCSC data prep"
   ]
  },
  {
   "cell_type": "code",
   "execution_count": 19,
   "id": "45a16a2e",
   "metadata": {},
   "outputs": [],
   "source": [
    "# from pprint import pprint\n",
    "\n",
    "# ucsc_file = open('input/ucsc_genome')\n",
    "# header = next(ucsc_file).split('\\t')\n",
    "# first_line = next(ucsc_file)\n",
    "# pprint(list(enumerate(zip(header, first_line.split('\\t')))))\n",
    "\n",
    "# gene_region = {}\n",
    "# ucsc_file = open('input/ucsc_genome')\n",
    "# header = next(ucsc_file).split('\\t')\n",
    "\n",
    "# not_in_uniprot = []\n",
    "\n",
    "# for line in ucsc_file:\n",
    "#     line = line.split('\\t')\n",
    "#     chromosome,start,end = line[0],line[1],line[2]\n",
    "#     transcript_ensembl_id = line[3].split('.')[0]\n",
    "#     if transcript_ensembl_id not in transcript_gene:\n",
    "#         not_in_uniprot.append(transcript_ensembl_id)\n",
    "#     else:\n",
    "#         gene_ensembl_id = transcript_gene[transcript_ensembl_id]\n",
    "# #         if gene_ensembl_id\n",
    "#         gene_region[gene_ensembl_id] = (chromosome,start,end)\n",
    "\n",
    "# len(not_in_uniprot)\n",
    "\n",
    "# len(transcript_gene)\n",
    "\n",
    "# len(gene_region)\n",
    "\n",
    "# #Chr1: 39895426-39902256\n",
    "# for ensembl_id in gene_ensembl_id['TP53']:\n",
    "#     if 'ENSG' in ensembl_id: \n",
    "#         print(ensembl_id, gene_region[ensembl_id])"
   ]
  },
  {
   "cell_type": "code",
   "execution_count": 20,
   "id": "c6368230",
   "metadata": {},
   "outputs": [],
   "source": [
    "# print(gene_structure_graph.number_of_nodes())\n",
    "# print(gene_structure_graph.number_of_edges())"
   ]
  },
  {
   "cell_type": "code",
   "execution_count": 21,
   "id": "77eba9c4",
   "metadata": {},
   "outputs": [],
   "source": [
    "# gene_structure_graph = nx.compose(tad_genes_graph, atac_gene_graph)"
   ]
  },
  {
   "cell_type": "code",
   "execution_count": 22,
   "id": "6fb32db5",
   "metadata": {},
   "outputs": [],
   "source": [
    "# gene_structure_graph = nx.compose(gene_structure_graph, tad_atac_graph)"
   ]
  },
  {
   "cell_type": "code",
   "execution_count": 23,
   "id": "7b774878",
   "metadata": {},
   "outputs": [],
   "source": [
    "# combined = nx.compose(gene_protein_graph, gene_structure_graph)\n",
    "\n",
    "# print(combined.number_of_nodes())\n",
    "# print(combined.number_of_edges())\n",
    "\n",
    "# combined = nx.compose(combined, protein_interactions)\n",
    "\n",
    "# print(combined.number_of_nodes())\n",
    "# print(combined.number_of_edges())\n",
    "\n",
    "# combined = nx.compose(combined, tf_targets)\n",
    "\n",
    "# print(combined.number_of_nodes())\n",
    "# print(combined.number_of_edges())\n",
    "\n",
    "# name_mapping = nx.DiGraph()\n",
    "# for gene, ensembl_ids in gene_ensembl_id.items():\n",
    "#     for ensembl_id in ensembl_ids:\n",
    "#         name_mapping.add_edge(ensembl_id, gene, interaction_type='id_name', weight=1.0)\n",
    "#         name_mapping.add_edge(gene, ensembl_id, interaction_type='name_id', weight=1.0)\n",
    "\n",
    "# print(name_mapping.number_of_nodes())\n",
    "# print(name_mapping.number_of_edges())\n",
    "\n",
    "# combined = nx.compose(combined, name_mapping)\n",
    "\n",
    "# print(combined.number_of_nodes())\n",
    "# print(combined.number_of_edges())\n",
    "\n",
    "# pickle.dump(combined, open('input/combined_graph.pickle','wb'))"
   ]
  },
  {
   "cell_type": "code",
   "execution_count": 33,
   "id": "d0834912",
   "metadata": {},
   "outputs": [],
   "source": [
    "from typing import (Optional, Dict, Any, Union, List, Iterable, Tuple,\n",
    "                    NamedTuple, Callable)\n",
    "from torch_geometric.typing import OptTensor, NodeType, EdgeType\n",
    "from torch_geometric.deprecation import deprecated\n",
    "\n",
    "import copy\n",
    "from collections.abc import Sequence, Mapping\n",
    "\n",
    "import torch\n",
    "import numpy as np\n",
    "from torch import Tensor\n",
    "from torch_sparse import SparseTensor\n",
    "\n",
    "from torch_geometric.data.storage import (BaseStorage, NodeStorage,\n",
    "                                          EdgeStorage, GlobalStorage)"
   ]
  },
  {
   "cell_type": "code",
   "execution_count": 82,
   "id": "af4109a6",
   "metadata": {},
   "outputs": [],
   "source": [
    "def to_heterogeneous(self, node_type: Optional[Tensor] = None,\n",
    "                         edge_type: Optional[Tensor] = None,\n",
    "                         node_type_names: Optional[List[NodeType]] = None,\n",
    "                         edge_type_names: Optional[List[EdgeType]] = None):\n",
    "        r\"\"\"Converts a :class:`~torch_geometric.data.Data` object to a\n",
    "        heterogeneous :class:`~torch_geometric.data.HeteroData` object.\n",
    "        For this, node and edge attributes are splitted according to the\n",
    "        node-level and edge-level vectors :obj:`node_type` and\n",
    "        :obj:`edge_type`, respectively.\n",
    "        :obj:`node_type_names` and :obj:`edge_type_names` can be used to give\n",
    "        meaningful node and edge type names, respectively.\n",
    "        That is, the node_type :obj:`0` is given by :obj:`node_type_names[0]`.\n",
    "        If the :class:`~torch_geometric.data.Data` object was constructed via\n",
    "        :meth:`~torch_geometric.data.HeteroData.to_homogeneous`, the object can\n",
    "        be reconstructed without any need to pass in additional arguments.\n",
    "\n",
    "        Args:\n",
    "            node_type (Tensor, optional): A node-level vector denoting the type\n",
    "                of each node. (default: :obj:`None`)\n",
    "            edge_type (Tensor, optional): An edge-level vector denoting the\n",
    "                type of each edge. (default: :obj:`None`)\n",
    "            node_type_names (List[str], optional): The names of node types.\n",
    "                (default: :obj:`None`)\n",
    "            edge_type_names (List[Tuple[str, str, str]], optional): The names\n",
    "                of edge types. (default: :obj:`None`)\n",
    "        \"\"\"\n",
    "        from torch_geometric.data import HeteroData\n",
    "\n",
    "        if node_type is None:\n",
    "            node_type = self._store.get('node_type', None)\n",
    "        if node_type is None:\n",
    "            node_type = torch.zeros(self.num_nodes, dtype=torch.long)\n",
    "\n",
    "        if node_type_names is None:\n",
    "            store = self._store\n",
    "            node_type_names = store.__dict__.get('_node_type_names', None)\n",
    "        if node_type_names is None:\n",
    "            node_type_names = [str(i) for i in node_type.unique().tolist()]\n",
    "\n",
    "        if edge_type is None:\n",
    "            edge_type = self._store.get('edge_type', None)\n",
    "        if edge_type is None:\n",
    "            edge_type = torch.zeros(self.num_edges, dtype=torch.long)\n",
    "\n",
    "        if edge_type_names is None:\n",
    "            store = self._store\n",
    "            edge_type_names = store.__dict__.get('_edge_type_names', None)\n",
    "        if edge_type_names is None:\n",
    "            edge_type_names = []\n",
    "            edge_index = self.edge_index\n",
    "            for i in edge_type.unique().tolist():\n",
    "                src, dst = edge_index[:, edge_type == i]\n",
    "                src_types = node_type[src].unique().tolist()\n",
    "                dst_types = node_type[dst].unique().tolist()\n",
    "                if len(src_types) != 1 and len(dst_types) != 1:\n",
    "                    raise ValueError(\n",
    "                        \"Could not construct a 'HeteroData' object from the \"\n",
    "                        \"'Data' object because single edge types span over \"\n",
    "                        \"multiple node types\")\n",
    "                edge_type_names.append((node_type_names[src_types[0]], str(i),\n",
    "                                        node_type_names[dst_types[0]]))\n",
    "\n",
    "        # We iterate over node types to find the local node indices belonging\n",
    "        # to each node type. Furthermore, we create a global `index_map` vector\n",
    "        # that maps global node indices to local ones in the final\n",
    "        # heterogeneous graph:\n",
    "        node_ids, index_map = {}, torch.empty_like(node_type)\n",
    "        for i, key in enumerate(node_type_names):\n",
    "            node_ids[i] = (node_type == i).nonzero(as_tuple=False).view(-1)\n",
    "            index_map[node_ids[i]] = torch.arange(len(node_ids[i]))\n",
    "\n",
    "        # We iterate over edge types to find the local edge indices:\n",
    "        edge_ids = {}\n",
    "        for i, key in enumerate(edge_type_names):\n",
    "            edge_ids[i] = (edge_type == i).nonzero(as_tuple=False).view(-1)\n",
    "\n",
    "        data = HeteroData()\n",
    "\n",
    "        for i, key in enumerate(node_type_names):\n",
    "            for attr, value in self.items():\n",
    "                if attr == 'node_type' or attr == 'edge_type':\n",
    "                    continue\n",
    "                elif isinstance(value, Tensor) and 'node' in attr:\n",
    "                    data[key][attr] = value[node_ids[i]]\n",
    "\n",
    "            if len(data[key]) == 0:\n",
    "                data[key].num_nodes = node_ids[i].size(0)\n",
    "\n",
    "        for i, key in enumerate(edge_type_names):\n",
    "            src, _, dst = key\n",
    "            for attr, value in self.items():\n",
    "                if attr == 'node_type' or attr == 'edge_type':\n",
    "                    continue\n",
    "                elif attr == 'edge_index':\n",
    "                    edge_index = value[:, edge_ids[i]]\n",
    "                    edge_index[0] = index_map[edge_index[0]]\n",
    "                    edge_index[1] = index_map[edge_index[1]]\n",
    "                    data[key].edge_index = edge_index\n",
    "                elif isinstance(value, Tensor) and 'edge' in attr:\n",
    "                    data[key][attr] = value[edge_ids[i]]\n",
    "\n",
    "        # Add global attributes.\n",
    "        keys = set(data.keys) | {'node_type', 'edge_type', 'num_nodes'}\n",
    "        for attr, value in self.items():\n",
    "            if attr in keys:\n",
    "                continue\n",
    "            if len(data.node_stores) == 1:\n",
    "                data.node_stores[0][attr] = value\n",
    "            else:\n",
    "                data[attr] = value\n",
    "\n",
    "        return data"
   ]
  },
  {
   "cell_type": "code",
   "execution_count": 83,
   "id": "3b7778db",
   "metadata": {},
   "outputs": [
    {
     "data": {
      "text/plain": [
       "ItemsView({'edge_index': tensor([[0, 0, 1, 3],\n",
       "        [2, 3, 3, 1]])})"
      ]
     },
     "execution_count": 83,
     "metadata": {},
     "output_type": "execute_result"
    }
   ],
   "source": [
    "data.items()"
   ]
  },
  {
   "cell_type": "code",
   "execution_count": 72,
   "id": "94aaeab5",
   "metadata": {},
   "outputs": [],
   "source": [
    "import torch_geometric as pyg"
   ]
  },
  {
   "cell_type": "code",
   "execution_count": 73,
   "id": "85c7c247",
   "metadata": {},
   "outputs": [],
   "source": [
    "from torch_geometric.nn import to_hetero"
   ]
  },
  {
   "cell_type": "code",
   "execution_count": 74,
   "id": "cb089076",
   "metadata": {},
   "outputs": [],
   "source": [
    "from torch_geometric.data import Data"
   ]
  },
  {
   "cell_type": "code",
   "execution_count": 151,
   "id": "4c007e56",
   "metadata": {},
   "outputs": [],
   "source": [
    "edge_index = torch.tensor([[0,0,1,3,0],[2,3,3,1,4]])"
   ]
  },
  {
   "cell_type": "code",
   "execution_count": 152,
   "id": "288fc3bd",
   "metadata": {},
   "outputs": [
    {
     "data": {
      "text/plain": [
       "tensor([[0, 0, 1, 3, 0],\n",
       "        [2, 3, 3, 1, 4]])"
      ]
     },
     "execution_count": 152,
     "metadata": {},
     "output_type": "execute_result"
    }
   ],
   "source": [
    "edge_index"
   ]
  },
  {
   "cell_type": "code",
   "execution_count": 153,
   "id": "00b19c69",
   "metadata": {},
   "outputs": [],
   "source": [
    "node_type = torch.tensor([0,0,0,1,1])\n",
    "node_type_names = ['protein','gene']#,'asdf']"
   ]
  },
  {
   "cell_type": "code",
   "execution_count": 154,
   "id": "ed4ef8db",
   "metadata": {},
   "outputs": [],
   "source": [
    "edge_type = torch.tensor([0,1,1,2,1])"
   ]
  },
  {
   "cell_type": "code",
   "execution_count": 164,
   "id": "503a7466",
   "metadata": {},
   "outputs": [],
   "source": [
    "x = torch.arange(5)"
   ]
  },
  {
   "cell_type": "code",
   "execution_count": 165,
   "id": "82a4c75a",
   "metadata": {},
   "outputs": [
    {
     "data": {
      "text/plain": [
       "tensor([0, 1, 2, 3, 4])"
      ]
     },
     "execution_count": 165,
     "metadata": {},
     "output_type": "execute_result"
    }
   ],
   "source": [
    "x"
   ]
  },
  {
   "cell_type": "code",
   "execution_count": 166,
   "id": "2a27ae08",
   "metadata": {},
   "outputs": [],
   "source": [
    "data = Data(edge_index=edge_index, node_x=x)"
   ]
  },
  {
   "cell_type": "code",
   "execution_count": 167,
   "id": "a4c1384b",
   "metadata": {},
   "outputs": [],
   "source": [
    "h = to_heterogeneous(data, node_type=node_type, node_type_names=node_type_names, edge_type=edge_type)"
   ]
  },
  {
   "cell_type": "code",
   "execution_count": 168,
   "id": "ca1031fe",
   "metadata": {},
   "outputs": [
    {
     "data": {
      "text/plain": [
       "HeteroData(\n",
       "  \u001b[1mprotein\u001b[0m={ node_x=[3] },\n",
       "  \u001b[1mgene\u001b[0m={ node_x=[2] },\n",
       "  \u001b[1m(protein, 0, protein)\u001b[0m={ edge_index=[2, 1] },\n",
       "  \u001b[1m(protein, 1, gene)\u001b[0m={ edge_index=[2, 3] },\n",
       "  \u001b[1m(gene, 2, protein)\u001b[0m={ edge_index=[2, 1] }\n",
       ")"
      ]
     },
     "execution_count": 168,
     "metadata": {},
     "output_type": "execute_result"
    }
   ],
   "source": [
    "h"
   ]
  },
  {
   "cell_type": "code",
   "execution_count": 169,
   "id": "68bb392e",
   "metadata": {},
   "outputs": [
    {
     "data": {
      "text/plain": [
       "{'edge_index': tensor([[0],\n",
       "        [2]])}"
      ]
     },
     "execution_count": 169,
     "metadata": {},
     "output_type": "execute_result"
    }
   ],
   "source": [
    "h['protein','protein']"
   ]
  },
  {
   "cell_type": "code",
   "execution_count": 170,
   "id": "3cc7a1e8",
   "metadata": {},
   "outputs": [
    {
     "data": {
      "text/plain": [
       "{'edge_index': tensor([[0, 1, 0],\n",
       "        [0, 0, 1]])}"
      ]
     },
     "execution_count": 170,
     "metadata": {},
     "output_type": "execute_result"
    }
   ],
   "source": [
    "h['protein','gene']"
   ]
  },
  {
   "cell_type": "code",
   "execution_count": 172,
   "id": "f53fca5b",
   "metadata": {},
   "outputs": [
    {
     "data": {
      "text/plain": [
       "{'node_x': tensor([0, 1, 2])}"
      ]
     },
     "execution_count": 172,
     "metadata": {},
     "output_type": "execute_result"
    }
   ],
   "source": [
    "h['protein']"
   ]
  },
  {
   "cell_type": "code",
   "execution_count": 173,
   "id": "dc5ce544",
   "metadata": {},
   "outputs": [
    {
     "data": {
      "text/plain": [
       "{'node_x': tensor([3, 4])}"
      ]
     },
     "execution_count": 173,
     "metadata": {},
     "output_type": "execute_result"
    }
   ],
   "source": [
    "h['gene']"
   ]
  },
  {
   "cell_type": "code",
   "execution_count": null,
   "id": "4d6f8da4",
   "metadata": {},
   "outputs": [],
   "source": [
    "# num_associated_proteins = Counter()\n",
    "# num_associated_names = Counter()\n",
    "# no_protein_associated = list()\n",
    "# data_proteins=set()\n",
    "# for i,gene_idx in enumerate(gene_idxs):\n",
    "#     if gene_idx:\n",
    "#         associated_protein_idxs = (graph.edge_index_dict[('gene', 'associated', 'protein')][0]==gene_idx).nonzero()\n",
    "#         num_associated_proteins[len(associated_protein_idxs)]+=1\n",
    "#         for protein_idx in associated_protein_idxs:\n",
    "#             associated_name_idxs = (graph.edge_index_dict[('protein', 'is_named', 'gene_name')][0]==protein_idx).nonzero()\n",
    "#             for name_idx in associated_name_idxs:\n",
    "#                 data_proteins.add(graph.edge_index_dict[('protein', 'is_named', 'gene_name')][1][name_idx].item())\n",
    "#             num_associated_names[len(associated_name_idxs)]+=1\n",
    "#     if associated_protein_idxs.shape[0]==0:\n",
    "#         no_protein_associated.append(i)\n",
    "    \n",
    "# print(num_associated_proteins[0])\n",
    "# print(num_associated_names)"
   ]
  },
  {
   "cell_type": "code",
   "execution_count": 174,
   "id": "b23ae3e8",
   "metadata": {},
   "outputs": [],
   "source": [
    "# GATConv(in_channels: Union[int, Tuple[int, int]], \n",
    "#         out_channels: int, \n",
    "#         heads: int = 1, \n",
    "#         concat: bool = True, \n",
    "#         negative_slope: float = 0.2, \n",
    "#         dropout: float = 0.0, \n",
    "#         add_self_loops: bool = True, \n",
    "#         edge_dim: Optional[int] = None, \n",
    "#         fill_value: Union[float, torch.Tensor, str] = 'mean', \n",
    "#         bias: bool = True, **kwargs)\n",
    "\n",
    "# EaRL Expression And Representation Learner\n",
    "class EaRL(torch.nn.Module):\n",
    "    def __init__(self, hidden_channels):\n",
    "        super().__init__()\n",
    "        self.conv1 = SAGEConv((-1, -1), hidden_channels)\n",
    "        self.conv2 = SAGEConv((-1, -1), hidden_channels)\n",
    "        self.conv3 = SAGEConv((-1, -1), 1)\n",
    "#         self.conv3 = GATConv((-1, -1), hidden_channels)\n",
    "#         self.conv4 = GATConv((-1, -1), out_channels)\n",
    "#         self.conv3 = GATConv((-1, -1), out_channels)\n",
    "#         self.conv4 = GATConv((-1, -1), out_channels)\n",
    "\n",
    "    def forward(self, x, edge_index):\n",
    "        x = self.conv1(x, edge_index).relu()\n",
    "        x = self.conv2(x, edge_index).relu()\n",
    "        x = self.conv3(x, edge_index)\n",
    "#         x['gene_name'] = self.linear(x['gene_name'])\n",
    "#         x = self.conv3(x, edge_index).relu()\n",
    "#         x = self.conv4(x, edge_index)\n",
    "        return x"
   ]
  },
  {
   "cell_type": "code",
   "execution_count": null,
   "id": "a1b290ce",
   "metadata": {},
   "outputs": [],
   "source": []
  }
 ],
 "metadata": {
  "kernelspec": {
   "display_name": "Python [conda env:opisca]",
   "language": "python",
   "name": "conda-env-opisca-py"
  },
  "language_info": {
   "codemirror_mode": {
    "name": "ipython",
    "version": 3
   },
   "file_extension": ".py",
   "mimetype": "text/x-python",
   "name": "python",
   "nbconvert_exporter": "python",
   "pygments_lexer": "ipython3",
   "version": "3.8.12"
  }
 },
 "nbformat": 4,
 "nbformat_minor": 5
}
