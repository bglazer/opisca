{
 "cells": [
  {
   "cell_type": "markdown",
   "id": "0b127286",
   "metadata": {},
   "source": [
    "## Why is ATAC paired data performing so poorly?"
   ]
  },
  {
   "cell_type": "code",
   "execution_count": 1,
   "id": "8261a5e5",
   "metadata": {},
   "outputs": [],
   "source": [
    "import pickle"
   ]
  },
  {
   "cell_type": "code",
   "execution_count": 112,
   "id": "6388d969",
   "metadata": {},
   "outputs": [],
   "source": [
    "from pprint import pprint"
   ]
  },
  {
   "cell_type": "code",
   "execution_count": 28,
   "id": "49bacc1a",
   "metadata": {},
   "outputs": [],
   "source": [
    "from collections import Counter"
   ]
  },
  {
   "cell_type": "code",
   "execution_count": 3,
   "id": "a10d1290",
   "metadata": {},
   "outputs": [],
   "source": [
    "graphs = pickle.load(open('input/graphs.pickle','rb'))"
   ]
  },
  {
   "cell_type": "code",
   "execution_count": 4,
   "id": "2e1d6b62",
   "metadata": {},
   "outputs": [
    {
     "data": {
      "text/plain": [
       "10"
      ]
     },
     "execution_count": 4,
     "metadata": {},
     "output_type": "execute_result"
    }
   ],
   "source": [
    "len(graphs)"
   ]
  },
  {
   "cell_type": "code",
   "execution_count": 57,
   "id": "e8d0333e",
   "metadata": {},
   "outputs": [],
   "source": [
    "atac_graphs = {k:g for g,k in graphs if 'atac_region' in k}"
   ]
  },
  {
   "cell_type": "code",
   "execution_count": 58,
   "id": "c60cceb5",
   "metadata": {},
   "outputs": [
    {
     "data": {
      "text/plain": [
       "{('tad',\n",
       "  'overlaps',\n",
       "  'atac_region'): <networkx.classes.digraph.DiGraph at 0x7f9bab821d30>,\n",
       " ('atac_region',\n",
       "  'overlaps',\n",
       "  'gene'): <networkx.classes.digraph.DiGraph at 0x7f9b927d9d00>,\n",
       " ('enhancer',\n",
       "  'overlaps',\n",
       "  'atac_region'): <networkx.classes.digraph.DiGraph at 0x7f9bab88a160>,\n",
       " ('atac_region',\n",
       "  'neighbors',\n",
       "  'gene'): <networkx.classes.digraph.DiGraph at 0x7f9bab88a460>}"
      ]
     },
     "execution_count": 58,
     "metadata": {},
     "output_type": "execute_result"
    }
   ],
   "source": [
    "atac_graphs"
   ]
  },
  {
   "cell_type": "code",
   "execution_count": 125,
   "id": "a5e890f6",
   "metadata": {},
   "outputs": [
    {
     "name": "stdout",
     "output_type": "stream",
     "text": [
      "('tad', 'overlaps', 'atac_region')\n",
      "[(1, 116232)]\n",
      "('atac_region', 'overlaps', 'gene')\n",
      "[(0, 8615), (1, 14628), (2, 617), (3, 19), (4, 2), (5, 2), (14, 1)]\n",
      "('enhancer', 'overlaps', 'atac_region')\n",
      "[(1, 9739),\n",
      " (2, 2528),\n",
      " (3, 1234),\n",
      " (4, 619),\n",
      " (5, 370),\n",
      " (6, 240),\n",
      " (7, 164),\n",
      " (8, 111),\n",
      " (9, 92),\n",
      " (10, 58),\n",
      " (11, 48),\n",
      " (12, 45),\n",
      " (13, 20),\n",
      " (14, 16),\n",
      " (15, 20),\n",
      " (16, 11),\n",
      " (17, 21),\n",
      " (18, 11),\n",
      " (19, 10),\n",
      " (20, 9),\n",
      " (21, 6),\n",
      " (22, 6),\n",
      " (23, 4),\n",
      " (24, 5),\n",
      " (25, 3),\n",
      " (27, 5),\n",
      " (29, 3),\n",
      " (30, 6),\n",
      " (35, 1),\n",
      " (36, 3),\n",
      " (37, 1),\n",
      " (38, 1),\n",
      " (39, 1),\n",
      " (43, 2)]\n",
      "('atac_region', 'neighbors', 'gene')\n",
      "[(0, 32416), (1, 52243), (2, 27877), (3, 3929)]\n"
     ]
    }
   ],
   "source": [
    "in_edges = {}\n",
    "for relation, graph in atac_graphs.items():\n",
    "    graph = graph.to_undirected()\n",
    "    in_edges[relation] = Counter()\n",
    "    for node in list(graph.nodes()):\n",
    "        # t=node type, k=node key\n",
    "        t, k = node\n",
    "        if t == 'atac_region':\n",
    "            ie = graph.edges(node)\n",
    "            if ie:\n",
    "                n = len(list(ie))\n",
    "                in_edges[relation][n]+=1\n",
    "            else:\n",
    "                in_edges[relation][0]+=1\n",
    "    print(relation)\n",
    "    pprint(sorted(in_edges[relation].items()))"
   ]
  },
  {
   "cell_type": "code",
   "execution_count": 64,
   "id": "77254654",
   "metadata": {},
   "outputs": [],
   "source": [
    "import networkx as nx"
   ]
  },
  {
   "cell_type": "code",
   "execution_count": 65,
   "id": "9666e949",
   "metadata": {},
   "outputs": [],
   "source": [
    "combined = nx.Graph()\n",
    "\n",
    "in_edges = {}\n",
    "for relation, graph in atac_graphs.items():\n",
    "    graph = graph.to_undirected()\n",
    "    combined = nx.compose(combined, graph)"
   ]
  },
  {
   "cell_type": "code",
   "execution_count": 66,
   "id": "38fc75c7",
   "metadata": {},
   "outputs": [
    {
     "data": {
      "text/plain": [
       "168006"
      ]
     },
     "execution_count": 66,
     "metadata": {},
     "output_type": "execute_result"
    }
   ],
   "source": [
    "combined.number_of_nodes()"
   ]
  },
  {
   "cell_type": "code",
   "execution_count": 67,
   "id": "47fd8af9",
   "metadata": {},
   "outputs": [
    {
     "data": {
      "text/plain": [
       "268938"
      ]
     },
     "execution_count": 67,
     "metadata": {},
     "output_type": "execute_result"
    }
   ],
   "source": [
    "combined.number_of_edges()"
   ]
  },
  {
   "cell_type": "code",
   "execution_count": null,
   "id": "3bce788b",
   "metadata": {},
   "outputs": [],
   "source": [
    "combined_in_edges = Counter()\n",
    "for node in list(combined.nodes()):\n",
    "    # t=node type, k=node key\n",
    "    t, k = node\n",
    "    if t == 'atac_region':\n",
    "        ie = combined.edges(node)\n",
    "        if ie:\n",
    "            n = len(list(ie))\n",
    "            combined_in_edges[n]+=1\n",
    "        "
   ]
  },
  {
   "cell_type": "code",
   "execution_count": 120,
   "id": "fc83d492",
   "metadata": {},
   "outputs": [
    {
     "name": "stdout",
     "output_type": "stream",
     "text": [
      "  2  48641 48641\n",
      "  3  30126 78767\n",
      "  1  26886 105653\n",
      "  4   7165 112818\n",
      "  5   1586 114404\n",
      "  6    654 115058\n",
      "  7    417 115475\n",
      "  8    249 115724\n",
      "  9    162 115886\n",
      " 10    118 116004\n",
      " 11     83 116087\n",
      " 12     55 116142\n",
      " 13     50 116192\n",
      " 14     39 116231\n",
      " 19     23 116254\n",
      " 15     21 116275\n",
      " 16     20 116295\n",
      " 17     15 116310\n",
      " 18     13 116323\n",
      " 20     11 116334\n",
      " 21      9 116343\n",
      " 22      8 116351\n",
      " 24      8 116359\n",
      " 27      6 116365\n",
      " 23      5 116370\n",
      " 25      5 116375\n",
      " 31      3 116378\n",
      " 39      3 116381\n",
      " 32      3 116384\n",
      " 30      3 116387\n",
      " 29      2 116389\n",
      " 41      2 116391\n",
      " 33      2 116393\n",
      " 37      2 116395\n",
      " 46      1 116396\n",
      " 28      1 116397\n",
      " 44      1 116398\n",
      " 26      1 116399\n"
     ]
    }
   ],
   "source": [
    "c=0\n",
    "for num_edges, count in combined_in_edges.most_common():\n",
    "    c += count\n",
    "    print(f'{num_edges:3d} {count:6d} {c}')"
   ]
  },
  {
   "cell_type": "code",
   "execution_count": 128,
   "id": "d990bbb8",
   "metadata": {},
   "outputs": [
    {
     "data": {
      "text/plain": [
       "116399"
      ]
     },
     "execution_count": 128,
     "metadata": {},
     "output_type": "execute_result"
    }
   ],
   "source": [
    "sum(combined_in_edges.values())"
   ]
  },
  {
   "cell_type": "markdown",
   "id": "0427eec5",
   "metadata": {},
   "source": [
    "## Why are there ATAC regions with zero neighboring genes? \n",
    "\n",
    "KDTree should always return k results for nearest neighbor search"
   ]
  },
  {
   "cell_type": "code",
   "execution_count": 132,
   "id": "9b4268f4",
   "metadata": {},
   "outputs": [
    {
     "name": "stdout",
     "output_type": "stream",
     "text": [
      "('atac_region', 'chr12-9843-10760') 0\n",
      "('atac_region', 'chr12-12504-13430') 0\n",
      "('atac_region', 'chr12-21492-22404') 0\n",
      "('atac_region', 'chr21-6369504-6370420') 0\n",
      "('atac_region', 'chr21-6371511-6372344') 0\n",
      "('atac_region', 'chr21-7775334-7776260') 0\n",
      "('atac_region', 'chr21-8212819-8213728') 0\n",
      "('atac_region', 'chr21-8219517-8220424') 0\n",
      "('atac_region', 'chr21-8234038-8234950') 0\n",
      "('atac_region', 'chr1-9776-10668') 0\n",
      "('atac_region', 'chr20-63025546-63026401') 0\n",
      "('atac_region', 'chr20-63027866-63028775') 0\n",
      "('atac_region', 'chr20-63032920-63033837') 0\n",
      "('atac_region', 'chr20-63049603-63050403') 0\n",
      "('atac_region', 'chr20-63056176-63057074') 0\n",
      "('atac_region', 'chr20-63071550-63072399') 0\n",
      "('atac_region', 'chr20-63073124-63073951') 0\n",
      "('atac_region', 'chr20-63082120-63082947') 0\n",
      "('atac_region', 'chr20-63135249-63135879') 0\n",
      "('atac_region', 'chr20-63178907-63179770') 0\n",
      "('atac_region', 'chr20-63183028-63183941') 0\n",
      "('atac_region', 'chr20-63441816-63442623') 0\n",
      "('atac_region', 'chr20-63446211-63446917') 0\n",
      "('atac_region', 'chr20-63781778-63782643') 0\n",
      "('atac_region', 'chr20-63785990-63786885') 0\n",
      "('atac_region', 'chr20-63850612-63851534') 0\n",
      "('atac_region', 'chr20-63909387-63910281') 0\n",
      "('atac_region', 'chr20-63911016-63911911') 0\n",
      "('atac_region', 'chr20-63912780-63913648') 0\n",
      "('atac_region', 'chr20-63948799-63949627') 0\n",
      "('atac_region', 'chr20-64089624-64090568') 0\n",
      "('atac_region', 'chr20-64316278-64317156') 0\n",
      "('atac_region', 'chr5-180975091-180975967') 0\n",
      "('atac_region', 'chr5-181098595-181099408') 0\n",
      "('atac_region', 'chr5-181100136-181100974') 0\n",
      "('atac_region', 'chr5-181103967-181104843') 0\n",
      "('atac_region', 'chr5-181107444-181108295') 0\n",
      "('atac_region', 'chr5-181114765-181115567') 0\n",
      "('atac_region', 'chr5-181133379-181134219') 0\n",
      "('atac_region', 'chr5-181138103-181138986') 0\n",
      "('atac_region', 'chr5-181159020-181159866') 0\n",
      "('atac_region', 'chr5-181160214-181160991') 0\n",
      "('atac_region', 'chr5-181161296-181161965') 0\n",
      "('atac_region', 'chr5-181163356-181164242') 0\n",
      "('atac_region', 'chr5-181169649-181170444') 0\n",
      "('atac_region', 'chr5-181173039-181173946') 0\n",
      "('atac_region', 'chr5-181180030-181180905') 0\n",
      "('atac_region', 'chr5-181181705-181182592') 0\n",
      "('atac_region', 'chr5-181183798-181184678') 0\n",
      "('atac_region', 'chr5-181199902-181200771') 0\n",
      "('atac_region', 'chr5-181223014-181223889') 0\n",
      "('atac_region', 'chr5-181243570-181244481') 0\n",
      "('atac_region', 'chr5-181273086-181273967') 0\n",
      "('atac_region', 'chr5-181283845-181284586') 0\n",
      "('atac_region', 'chr16-10596-11363') 0\n",
      "('atac_region', 'chr16-34788-35706') 0\n",
      "('atac_region', 'chr11-135075573-135076400') 0\n",
      "('atac_region', 'chr3-10002-10967') 0\n",
      "('atac_region', 'chr3-11659-12409') 0\n",
      "('atac_region', 'chr3-198029832-198030714') 0\n",
      "('atac_region', 'chr3-198066582-198067487') 0\n",
      "('atac_region', 'chr3-198071635-198072495') 0\n",
      "('atac_region', 'chr3-198080344-198081258') 0\n",
      "('atac_region', 'chr3-198113291-198114203') 0\n",
      "('atac_region', 'chr3-198167392-198168299') 0\n",
      "('atac_region', 'chr3-198173451-198174154') 0\n"
     ]
    }
   ],
   "source": [
    "relation = ('atac_region', 'neighbors', 'gene')\n",
    "g = atac_graphs[relation]\n",
    "c = 0\n",
    "for node in g.nodes():\n",
    "    t,k = node\n",
    "    if t == 'atac_region':\n",
    "        n = len(combined.edges(node))\n",
    "        if n==0:\n",
    "            print(node, n)\n",
    "            c+=1\n",
    "            if c==100:\n",
    "                break"
   ]
  },
  {
   "cell_type": "code",
   "execution_count": null,
   "id": "1e1a8b21",
   "metadata": {},
   "outputs": [],
   "source": []
  }
 ],
 "metadata": {
  "kernelspec": {
   "display_name": "Python [conda env:opisca]",
   "language": "python",
   "name": "conda-env-opisca-py"
  },
  "language_info": {
   "codemirror_mode": {
    "name": "ipython",
    "version": 3
   },
   "file_extension": ".py",
   "mimetype": "text/x-python",
   "name": "python",
   "nbconvert_exporter": "python",
   "pygments_lexer": "ipython3",
   "version": "3.8.12"
  }
 },
 "nbformat": 4,
 "nbformat_minor": 5
}
