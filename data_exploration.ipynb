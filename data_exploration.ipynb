{
 "cells": [
  {
   "cell_type": "code",
   "execution_count": 2,
   "id": "b6ca1e3e",
   "metadata": {},
   "outputs": [],
   "source": [
    "import scanpy"
   ]
  },
  {
   "cell_type": "code",
   "execution_count": 28,
   "id": "352fd53b",
   "metadata": {},
   "outputs": [],
   "source": [
    "import numpy as np"
   ]
  },
  {
   "cell_type": "code",
   "execution_count": 3,
   "id": "f0691869",
   "metadata": {},
   "outputs": [],
   "source": [
    "data_files = !find 'output/datasets/predict_modality/' -type f -name '*train*h5ad'"
   ]
  },
  {
   "cell_type": "code",
   "execution_count": 4,
   "id": "775bc93f",
   "metadata": {},
   "outputs": [],
   "source": [
    "data = {}\n",
    "for filename in data_files:\n",
    "    data[filename.split('/')[-1]] = scanpy.read_h5ad(filename)"
   ]
  },
  {
   "cell_type": "code",
   "execution_count": 5,
   "id": "5fc4b18e",
   "metadata": {},
   "outputs": [],
   "source": [
    "protein_data = data['openproblems_bmmc_cite_phase1_mod2.censor_dataset.output_train_mod1.h5ad']"
   ]
  },
  {
   "cell_type": "code",
   "execution_count": 6,
   "id": "bd90370c",
   "metadata": {},
   "outputs": [],
   "source": [
    "gene_data = data['openproblems_bmmc_cite_phase1_mod2.censor_dataset.output_train_mod2.h5ad']"
   ]
  },
  {
   "cell_type": "code",
   "execution_count": 11,
   "id": "dd8c4be6",
   "metadata": {},
   "outputs": [],
   "source": [
    "atac_data = data['openproblems_bmmc_multiome_phase1_mod2.censor_dataset.output_train_mod1.h5ad']"
   ]
  },
  {
   "cell_type": "code",
   "execution_count": 13,
   "id": "4cbf9697",
   "metadata": {},
   "outputs": [],
   "source": [
    "from matplotlib import pyplot as plt"
   ]
  },
  {
   "cell_type": "markdown",
   "id": "a256b10d",
   "metadata": {},
   "source": [
    "## ATAC data"
   ]
  },
  {
   "cell_type": "code",
   "execution_count": 17,
   "id": "a080f71a",
   "metadata": {},
   "outputs": [],
   "source": [
    "atac_means = atac_data.X.mean(axis=0)"
   ]
  },
  {
   "cell_type": "code",
   "execution_count": 22,
   "id": "e684f236",
   "metadata": {},
   "outputs": [
    {
     "name": "stdout",
     "output_type": "stream",
     "text": [
      "0.0007929729 0.5060997\n"
     ]
    },
    {
     "data": {
      "image/png": "[encoded data removed]",
      "text/plain": [
       "<Figure size 432x288 with 1 Axes>"
      ]
     },
     "metadata": {
      "needs_background": "light"
     },
     "output_type": "display_data"
    }
   ],
   "source": [
    "plt.hist(atac_means.T, bins=40)\n",
    "print(atac_means.min(), atac_means.max())"
   ]
  },
  {
   "cell_type": "code",
   "execution_count": 54,
   "id": "fb181e82",
   "metadata": {},
   "outputs": [
    {
     "data": {
      "text/plain": [
       "0.025700124916673082"
      ]
     },
     "execution_count": 54,
     "metadata": {},
     "output_type": "execute_result"
    }
   ],
   "source": [
    "atac_data.X.count_nonzero()/(atac_data.shape[0]*atac_data.shape[1])"
   ]
  },
  {
   "cell_type": "code",
   "execution_count": 64,
   "id": "2fbdfded",
   "metadata": {},
   "outputs": [
    {
     "data": {
      "text/plain": [
       "matrix([[0., 0., 0., 0., 0., 0., 1., 0., 0., 0.],\n",
       "        [0., 0., 0., 0., 0., 1., 1., 0., 0., 0.],\n",
       "        [0., 0., 0., 0., 0., 0., 1., 0., 0., 0.],\n",
       "        [0., 0., 0., 0., 0., 0., 0., 0., 0., 0.],\n",
       "        [0., 0., 0., 0., 0., 0., 1., 0., 0., 0.],\n",
       "        [0., 0., 0., 0., 0., 0., 0., 0., 0., 0.],\n",
       "        [0., 0., 0., 0., 0., 0., 1., 0., 0., 0.],\n",
       "        [0., 0., 0., 0., 0., 0., 1., 0., 0., 0.],\n",
       "        [0., 0., 0., 0., 0., 1., 1., 1., 0., 0.],\n",
       "        [0., 0., 0., 0., 0., 0., 1., 0., 0., 0.]], dtype=float32)"
      ]
     },
     "execution_count": 64,
     "metadata": {},
     "output_type": "execute_result"
    }
   ],
   "source": [
    "atac_data.X[:10,:10].todense()"
   ]
  },
  {
   "cell_type": "markdown",
   "id": "c7fda5c6",
   "metadata": {},
   "source": [
    "## Protein Data"
   ]
  },
  {
   "cell_type": "code",
   "execution_count": 30,
   "id": "8a626f4c",
   "metadata": {},
   "outputs": [],
   "source": [
    "protein_dist = protein_data.X.reshape((-1,1)).todense()"
   ]
  },
  {
   "cell_type": "code",
   "execution_count": 39,
   "id": "76ba08ff",
   "metadata": {},
   "outputs": [
    {
     "name": "stdout",
     "output_type": "stream",
     "text": [
      "0.6774877 [[0.5082029]]\n",
      "0.0 [[7.514117]]\n"
     ]
    },
    {
     "data": {
      "image/png": "[encoded data removed]",
      "text/plain": [
       "<Figure size 432x288 with 1 Axes>"
      ]
     },
     "metadata": {
      "needs_background": "light"
     },
     "output_type": "display_data"
    }
   ],
   "source": [
    "_=plt.hist(protein_dist, bins=40)\n",
    "print(protein_dist.mean(), np.median(protein_dist,axis=0))\n",
    "print(protein_dist.min(), np.max(protein_dist,axis=0))"
   ]
  },
  {
   "cell_type": "code",
   "execution_count": 55,
   "id": "c31fd72f",
   "metadata": {},
   "outputs": [
    {
     "data": {
      "image/png": "[encoded data removed]",
      "text/plain": [
       "<Figure size 432x288 with 1 Axes>"
      ]
     },
     "metadata": {
      "needs_background": "light"
     },
     "output_type": "display_data"
    }
   ],
   "source": [
    "_=plt.hist(np.log(.01+protein_dist),bins=40)"
   ]
  },
  {
   "cell_type": "code",
   "execution_count": 41,
   "id": "267cc535",
   "metadata": {},
   "outputs": [
    {
     "data": {
      "text/plain": [
       "-4.605170185988091"
      ]
     },
     "execution_count": 41,
     "metadata": {},
     "output_type": "execute_result"
    }
   ],
   "source": [
    "np.log(.01)"
   ]
  },
  {
   "cell_type": "code",
   "execution_count": 53,
   "id": "b0d10331",
   "metadata": {},
   "outputs": [
    {
     "data": {
      "text/plain": [
       "0.7821774300762926"
      ]
     },
     "execution_count": 53,
     "metadata": {},
     "output_type": "execute_result"
    }
   ],
   "source": [
    "protein_data.X.count_nonzero()/(protein_data.shape[0]*protein_data.shape[1])"
   ]
  },
  {
   "cell_type": "markdown",
   "id": "64fcb13f",
   "metadata": {},
   "source": [
    "## Gene Data"
   ]
  },
  {
   "cell_type": "code",
   "execution_count": 42,
   "id": "46a46b20",
   "metadata": {},
   "outputs": [],
   "source": [
    "gene_dist = gene_data.X.reshape((-1,1)).todense()"
   ]
  },
  {
   "cell_type": "code",
   "execution_count": 44,
   "id": "5c299668",
   "metadata": {},
   "outputs": [
    {
     "data": {
      "text/plain": [
       "(405711381, 1)"
      ]
     },
     "execution_count": 44,
     "metadata": {},
     "output_type": "execute_result"
    }
   ],
   "source": [
    "gene_dist.shape"
   ]
  },
  {
   "cell_type": "code",
   "execution_count": 46,
   "id": "7214f9e6",
   "metadata": {},
   "outputs": [
    {
     "name": "stdout",
     "output_type": "stream",
     "text": [
      "0.10704467 [[0.]]\n",
      "0.0 [[14.102308]]\n"
     ]
    },
    {
     "data": {
      "image/png": "[encoded data removed]",
      "text/plain": [
       "<Figure size 432x288 with 1 Axes>"
      ]
     },
     "metadata": {
      "needs_background": "light"
     },
     "output_type": "display_data"
    }
   ],
   "source": [
    "_=plt.hist(gene_dist, bins=40)\n",
    "print(gene_dist.mean(), np.median(gene_dist,axis=0))\n",
    "print(gene_dist.min(), np.max(gene_dist,axis=0))"
   ]
  },
  {
   "cell_type": "code",
   "execution_count": 65,
   "id": "7d7a0377",
   "metadata": {},
   "outputs": [],
   "source": [
    "import scipy"
   ]
  },
  {
   "cell_type": "code",
   "execution_count": 75,
   "id": "e4ddacab",
   "metadata": {},
   "outputs": [],
   "source": [
    "gene_nz = gene_data.X[gene_data.X.nonzero()]"
   ]
  },
  {
   "cell_type": "code",
   "execution_count": 80,
   "id": "c2bf0acc",
   "metadata": {},
   "outputs": [
    {
     "data": {
      "image/png": "[encoded data removed]",
      "text/plain": [
       "<Figure size 432x288 with 1 Axes>"
      ]
     },
     "metadata": {
      "needs_background": "light"
     },
     "output_type": "display_data"
    }
   ],
   "source": [
    "_=plt.hist(gene_nz.T, bins=40)"
   ]
  },
  {
   "cell_type": "code",
   "execution_count": 81,
   "id": "29ac4c78",
   "metadata": {},
   "outputs": [
    {
     "data": {
      "image/png": "[encoded data removed]",
      "text/plain": [
       "<Figure size 432x288 with 1 Axes>"
      ]
     },
     "metadata": {
      "needs_background": "light"
     },
     "output_type": "display_data"
    }
   ],
   "source": [
    "_=plt.hist(np.log(gene_nz.T), bins=40)"
   ]
  },
  {
   "cell_type": "code",
   "execution_count": 48,
   "id": "8b8d585f",
   "metadata": {},
   "outputs": [
    {
     "data": {
      "text/plain": [
       "41509445"
      ]
     },
     "execution_count": 48,
     "metadata": {},
     "output_type": "execute_result"
    }
   ],
   "source": [
    "gene_data.X.count_nonzero()"
   ]
  },
  {
   "cell_type": "code",
   "execution_count": 49,
   "id": "296f7228",
   "metadata": {},
   "outputs": [
    {
     "data": {
      "text/plain": [
       "405711381"
      ]
     },
     "execution_count": 49,
     "metadata": {},
     "output_type": "execute_result"
    }
   ],
   "source": [
    "gene_data.shape[0]*gene_data.shape[1]"
   ]
  },
  {
   "cell_type": "code",
   "execution_count": 52,
   "id": "7c799667",
   "metadata": {},
   "outputs": [
    {
     "data": {
      "text/plain": [
       "0.1023127448327608"
      ]
     },
     "execution_count": 52,
     "metadata": {},
     "output_type": "execute_result"
    }
   ],
   "source": [
    "gene_data.X.count_nonzero()/(gene_data.shape[0]*gene_data.shape[1])"
   ]
  },
  {
   "cell_type": "code",
   "execution_count": null,
   "id": "b6ed962c",
   "metadata": {},
   "outputs": [],
   "source": [
    "gene_means"
   ]
  },
  {
   "cell_type": "markdown",
   "id": "39212f2b",
   "metadata": {},
   "source": [
    "## Protein-gene connectivity"
   ]
  },
  {
   "cell_type": "code",
   "execution_count": 124,
   "id": "e676d13f",
   "metadata": {},
   "outputs": [],
   "source": [
    "import pickle"
   ]
  },
  {
   "cell_type": "code",
   "execution_count": 134,
   "id": "28402f5e",
   "metadata": {},
   "outputs": [],
   "source": [
    "gene_name_protein = pickle.load(open('input/gene_name_proteins.pickle','rb'))"
   ]
  },
  {
   "cell_type": "code",
   "execution_count": 135,
   "id": "f4196992",
   "metadata": {},
   "outputs": [],
   "source": [
    "gene_protein = pickle.load(open('input/gene_protein_association.pickle','rb'))"
   ]
  },
  {
   "cell_type": "code",
   "execution_count": 173,
   "id": "d3da36c1",
   "metadata": {},
   "outputs": [],
   "source": [
    "# TODO why are genes without ('gene', ENSG...) in gene_protein?\n",
    "# possibly because gene_protein was a defaultdict? Changed in input_data_prep, so maybe fixed"
   ]
  },
  {
   "cell_type": "code",
   "execution_count": 154,
   "id": "fb6608b0",
   "metadata": {},
   "outputs": [],
   "source": [
    "protein_gene = {}\n",
    "for protein in protein_data.var.index.to_list():\n",
    "    for gene_name in gene_name_protein[protein.upper()]:\n",
    "        protein_gene[gene_name] = protein"
   ]
  },
  {
   "cell_type": "code",
   "execution_count": 160,
   "id": "bca8b689",
   "metadata": {},
   "outputs": [],
   "source": [
    "from collections import Counter, defaultdict"
   ]
  },
  {
   "cell_type": "code",
   "execution_count": 163,
   "id": "f797c9f8",
   "metadata": {},
   "outputs": [],
   "source": [
    "gene_protein_matched = defaultdict(set)\n",
    "for gene in gene_data.var['gene_ids'].to_list():\n",
    "    for protein in gene_protein[('gene',gene)]:\n",
    "        if protein in protein_gene:\n",
    "            gene_protein_matched[protein_gene[protein]].add(gene)\n",
    "                        "
   ]
  },
  {
   "cell_type": "code",
   "execution_count": 172,
   "id": "b6d3f39a",
   "metadata": {},
   "outputs": [
    {
     "data": {
      "text/plain": [
       "[('CD134', 1),\n",
       " ('CD270', 1),\n",
       " ('CD137', 1),\n",
       " ('CD52', 1),\n",
       " ('CD58', 1),\n",
       " ('CD2', 1),\n",
       " ('CD101', 1),\n",
       " ('CD64', 1),\n",
       " ('CD1d', 1),\n",
       " ('CD1c', 1),\n",
       " ('FceRIa', 1),\n",
       " ('CD352', 1),\n",
       " ('CD48', 1),\n",
       " ('CD319', 1),\n",
       " ('CD244', 1),\n",
       " ('CD32', 2),\n",
       " ('CD16', 1),\n",
       " ('CD62L', 1),\n",
       " ('CD45', 1),\n",
       " ('CD21', 1),\n",
       " ('CD35', 1),\n",
       " ('CD8', 2),\n",
       " ('CD26', 1),\n",
       " ('CD49f', 1),\n",
       " ('CD49d', 1),\n",
       " ('CD28', 1),\n",
       " ('CD152', 1),\n",
       " ('CD278', 1),\n",
       " ('CD194', 1),\n",
       " ('CX3CR1', 1),\n",
       " ('CD192', 1),\n",
       " ('CD195', 1),\n",
       " ('CD47', 1),\n",
       " ('CD272', 1),\n",
       " ('TIGIT', 1),\n",
       " ('CD86', 1),\n",
       " ('CD71', 1),\n",
       " ('CD38', 1),\n",
       " ('CD127', 1),\n",
       " ('CD49a', 1),\n",
       " ('CD14', 1),\n",
       " ('CD115', 1),\n",
       " ('CD83', 1),\n",
       " ('HLA-E', 1),\n",
       " ('HLA-A-B-C', 2),\n",
       " ('HLA-DR', 2),\n",
       " ('CD73', 1),\n",
       " ('CD24', 1),\n",
       " ('CD119', 1),\n",
       " ('CD196', 1),\n",
       " ('CD36', 1),\n",
       " ('CD72', 1),\n",
       " ('CD105', 1),\n",
       " ('CD25', 2),\n",
       " ('CD29', 1),\n",
       " ('CD304', 1),\n",
       " ('CD95', 1),\n",
       " ('CD39', 1),\n",
       " ('CD81', 1),\n",
       " ('CD44', 1),\n",
       " ('CD82', 1),\n",
       " ('CD20', 1),\n",
       " ('CD5', 1),\n",
       " ('CD56', 1),\n",
       " ('CD3', 3),\n",
       " ('CD185', 1),\n",
       " ('CD9', 1),\n",
       " ('CD27', 1),\n",
       " ('CD223', 1),\n",
       " ('CD4', 1),\n",
       " ('CD163', 1),\n",
       " ('CD303', 1),\n",
       " ('KLRG1', 1),\n",
       " ('CD161', 1),\n",
       " ('CD69', 1),\n",
       " ('CD94', 1),\n",
       " ('CD314', 1),\n",
       " ('integrinB7', 1),\n",
       " ('CD63', 1),\n",
       " ('CD162', 1),\n",
       " ('CD107a', 1),\n",
       " ('IgD', 1),\n",
       " ('IgM', 1),\n",
       " ('CD13', 1),\n",
       " ('CD124', 1),\n",
       " ('CD19', 1),\n",
       " ('CD11a', 1),\n",
       " ('CD11b', 1),\n",
       " ('CD11c', 1),\n",
       " ('CD103', 1),\n",
       " ('CD42b', 1),\n",
       " ('CD79b', 1),\n",
       " ('CD31', 1),\n",
       " ('CD7', 1),\n",
       " ('CD226', 1),\n",
       " ('CD23', 1),\n",
       " ('CD54', 1),\n",
       " ('CD22', 1),\n",
       " ('CD155', 1),\n",
       " ('CD112', 1),\n",
       " ('CD88', 1),\n",
       " ('CD328', 1),\n",
       " ('CD33', 1),\n",
       " ('CD85j', 1),\n",
       " ('CD335', 1),\n",
       " ('CD172a', 1),\n",
       " ('CD141', 1),\n",
       " ('CD93', 1),\n",
       " ('CD40', 1),\n",
       " ('CD18', 1),\n",
       " ('CD122', 1),\n",
       " ('CD268', 1),\n",
       " ('CD123', 1),\n",
       " ('CD154', 1)]"
      ]
     },
     "execution_count": 172,
     "metadata": {},
     "output_type": "execute_result"
    }
   ],
   "source": [
    "[(protein_name, len(genes)) for protein_name, genes in gene_protein_matched.items()]"
   ]
  },
  {
   "cell_type": "code",
   "execution_count": 169,
   "id": "47e73dc8",
   "metadata": {},
   "outputs": [
    {
     "data": {
      "text/plain": [
       "114"
      ]
     },
     "execution_count": 169,
     "metadata": {},
     "output_type": "execute_result"
    }
   ],
   "source": [
    "len(gene_protein_matched)"
   ]
  },
  {
   "cell_type": "code",
   "execution_count": 170,
   "id": "b84e9448",
   "metadata": {},
   "outputs": [
    {
     "data": {
      "text/plain": [
       "134"
      ]
     },
     "execution_count": 170,
     "metadata": {},
     "output_type": "execute_result"
    }
   ],
   "source": [
    "len(protein_ids)"
   ]
  },
  {
   "cell_type": "markdown",
   "id": "88fcfe0b",
   "metadata": {},
   "source": [
    "114/134 of the proteins have corresponding genes in the gene expression dataset\n",
    "\n",
    "There's no way to connect these to data except through second order connections (protein-protein, etc)"
   ]
  },
  {
   "cell_type": "code",
   "execution_count": null,
   "id": "5581d67b",
   "metadata": {},
   "outputs": [],
   "source": []
  }
 ],
 "metadata": {
  "kernelspec": {
   "display_name": "Python [conda env:opisca]",
   "language": "python",
   "name": "conda-env-opisca-py"
  },
  "language_info": {
   "codemirror_mode": {
    "name": "ipython",
    "version": 3
   },
   "file_extension": ".py",
   "mimetype": "text/x-python",
   "name": "python",
   "nbconvert_exporter": "python",
   "pygments_lexer": "ipython3",
   "version": "3.8.12"
  }
 },
 "nbformat": 4,
 "nbformat_minor": 5
}
